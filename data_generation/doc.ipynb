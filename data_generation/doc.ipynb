{
 "cells": [
  {
   "cell_type": "code",
   "execution_count": 18,
   "metadata": {},
   "outputs": [],
   "source": [
    "import os\n",
    "import chromadb\n",
    "import pickle\n",
    "import pytesseract as pt\n",
    "from dotenv import load_dotenv\n",
    "from langchain.vectorstores import Chroma\n",
    "from langchain.embeddings.openai import OpenAIEmbeddings\n",
    "from langchain.llms import OpenAI\n",
    "from langchain.document_loaders import UnstructuredPDFLoader, OnlinePDFLoader\n",
    "from langchain.text_splitter import RecursiveCharacterTextSplitter\n",
    "from langchain.chains.question_answering import load_qa_chain\n",
    "from langchain.chains.summarize import load_summarize_chain\n",
    "\n",
    "load_dotenv()\n",
    "OPENAI_API_KEY = os.getenv(\"OPENAI_API_KEY\")\n",
    "\n",
    "embeddings = OpenAIEmbeddings(openai_api_key=OPENAI_API_KEY)\n",
    "llm = OpenAI(temperature=0.7, openai_api_key=OPENAI_API_KEY)\n",
    "\n",
    "pt.pytesseract.tesseract_cmd = \"C:\\\\Program Files\\\\Tesseract-OCR\\\\tesseract.exe\""
   ]
  },
  {
   "cell_type": "code",
   "execution_count": 20,
   "metadata": {},
   "outputs": [],
   "source": [
    "class ChatDoc:\n",
    "    def __init__(self, fileName: str):\n",
    "        self.fileName = fileName\n",
    "        self.init()\n",
    "\n",
    "    def load_from_pdf(self):\n",
    "        loader = UnstructuredPDFLoader(f\"../data/{self.fileName}.pdf\")\n",
    "        self.data = loader.load()\n",
    "        self.save_to_pkl()\n",
    "\n",
    "    def load_from_pkl(self):\n",
    "        with open(f\"../data/{self.fileName}.pkl\", \"rb\") as f:\n",
    "            self.data = pickle.load(f)\n",
    "\n",
    "    def save_to_pkl(self):\n",
    "        with open(f\"../data/{self.fileName}.pkl\", \"wb\") as f:\n",
    "            pickle.dump(self.data, f)\n",
    "\n",
    "    def init(self):\n",
    "        if os.path.exists(f\"../data/chroma/{self.fileName}\"):\n",
    "            self.docsearch = Chroma(persist_directory=f\"../data/chroma/{self.fileName}\", embedding_function=embeddings, collection_name=self.fileName)\n",
    "            return\n",
    "        \n",
    "        if os.path.exists(f\"../data/{self.fileName}.pkl\"):\n",
    "            self.load_from_pkl()\n",
    "        else:\n",
    "            self.load_from_pdf()\n",
    "\n",
    "        self.text_splitter = RecursiveCharacterTextSplitter(\n",
    "            chunk_size=1000, chunk_overlap=0\n",
    "        )\n",
    "        self.texts = self.text_splitter.split_documents(self.data)\n",
    "\n",
    "        self.docsearch = Chroma.from_texts(\n",
    "            [t.page_content for t in self.texts],\n",
    "            embeddings,\n",
    "            collection_name=self.fileName,\n",
    "            persist_directory=f\"../data/chroma/{self.fileName}\",\n",
    "        )\n",
    "\n",
    "        self.docsearch.persist()\n",
    "\n",
    "    def query(self, q: str):\n",
    "        docs = self.docsearch.similarity_search(q, include_metadata=True)\n",
    "        chain = load_qa_chain(llm, chain_type=\"stuff\")\n",
    "        return str(chain.run(input_documents=docs, question=q)).strip()\n",
    "\n",
    "    # def summarize(self):\n",
    "    #     chain = load_summarize_chain(llm, chain_type=\"map_reduce\")\n",
    "    #     return str(chain.run(self.docsearch.as_retriever().)).strip()\n"
   ]
  },
  {
   "cell_type": "code",
   "execution_count": 9,
   "metadata": {},
   "outputs": [
    {
     "name": "stderr",
     "output_type": "stream",
     "text": [
      "Using embedded DuckDB with persistence: data will be stored in: ../data/chroma/deepfake\n"
     ]
    }
   ],
   "source": [
    "deepfake = ChatDoc(\"deepfake\")"
   ]
  },
  {
   "cell_type": "code",
   "execution_count": 12,
   "metadata": {},
   "outputs": [
    {
     "data": {
      "text/plain": [
       "'This document discusses potential solutions to the problem of deepfakes, which are AI-generated images and videos that can be used to spread false information. One solution is C2PA, which cryptographically signs any content created by a device and documents who captured the image, where, and when. Other options include fingerprinting and watermarking images and videos. AI tools have been proposed to spot deepfakes, but this technology is not reliable enough to keep up with the constantly changing generative AI tools. Another potential solution is to develop an instant fact-checker for social media users, which would quickly inform users of the veracity of a piece of content.'"
      ]
     },
     "execution_count": 12,
     "metadata": {},
     "output_type": "execute_result"
    }
   ],
   "source": [
    "deepfake.query(\"Summarize the document?\")"
   ]
  },
  {
   "cell_type": "code",
   "execution_count": 21,
   "metadata": {},
   "outputs": [
    {
     "name": "stderr",
     "output_type": "stream",
     "text": [
      "Using embedded DuckDB with persistence: data will be stored in: ../data/chroma/asml\n"
     ]
    }
   ],
   "source": [
    "asml = ChatDoc(\"asml\")"
   ]
  },
  {
   "cell_type": "code",
   "execution_count": 4,
   "metadata": {},
   "outputs": [
    {
     "data": {
      "text/plain": [
       "'The author of the book is René Raaijmakers.'"
      ]
     },
     "execution_count": 4,
     "metadata": {},
     "output_type": "execute_result"
    }
   ],
   "source": [
    "asml.query(\"Who is the author of the book?\")"
   ]
  },
  {
   "cell_type": "code",
   "execution_count": 7,
   "metadata": {},
   "outputs": [
    {
     "data": {
      "text/plain": [
       "'ASML was founded in 1984.'"
      ]
     },
     "execution_count": 7,
     "metadata": {},
     "output_type": "execute_result"
    }
   ],
   "source": [
    "asml.query(\"When was ASML founded\")"
   ]
  },
  {
   "cell_type": "code",
   "execution_count": 8,
   "metadata": {},
   "outputs": [
    {
     "data": {
      "text/plain": [
       "'ASML uses lithography technology, electric tables, superior alignment technology, Zeiss lenses, and digital controllers.'"
      ]
     },
     "execution_count": 8,
     "metadata": {},
     "output_type": "execute_result"
    }
   ],
   "source": [
    "asml.query(\"What is the technology used by ASML?\")"
   ]
  },
  {
   "cell_type": "code",
   "execution_count": 9,
   "metadata": {},
   "outputs": [
    {
     "data": {
      "text/plain": [
       "'The first engineers at ASML were Werf, Willekens, and Wittekoek.'"
      ]
     },
     "execution_count": 9,
     "metadata": {},
     "output_type": "execute_result"
    }
   ],
   "source": [
    "asml.query(\"Who were the first engineers at ASML?\")"
   ]
  },
  {
   "cell_type": "code",
   "execution_count": 11,
   "metadata": {},
   "outputs": [
    {
     "data": {
      "text/plain": [
       "'The first machine developed by ASML is the PAS 5500.'"
      ]
     },
     "execution_count": 11,
     "metadata": {},
     "output_type": "execute_result"
    }
   ],
   "source": [
    "asml.query(\"What is the name of the first machine developed by ASML?\")"
   ]
  },
  {
   "cell_type": "code",
   "execution_count": 12,
   "metadata": {},
   "outputs": [
    {
     "data": {
      "text/plain": [
       "'The headquarters of ASML is located in Veldhoven, Netherlands.'"
      ]
     },
     "execution_count": 12,
     "metadata": {},
     "output_type": "execute_result"
    }
   ],
   "source": [
    "asml.query(\"Where is the headquarter of ASML?\")"
   ]
  },
  {
   "cell_type": "code",
   "execution_count": 14,
   "metadata": {},
   "outputs": [
    {
     "data": {
      "text/plain": [
       "'Gjalt Smit'"
      ]
     },
     "execution_count": 14,
     "metadata": {},
     "output_type": "execute_result"
    }
   ],
   "source": [
    "asml.query(\"Who is the first CEO of ASML?\")"
   ]
  },
  {
   "cell_type": "code",
   "execution_count": 15,
   "metadata": {},
   "outputs": [
    {
     "data": {
      "text/plain": [
       "'ASML faced challenges with their dependence on Zeiss, their production struggles, their operational expenses, and their difficulty in finding potential customers.'"
      ]
     },
     "execution_count": 15,
     "metadata": {},
     "output_type": "execute_result"
    }
   ],
   "source": [
    "asml.query(\"What were the challenges faced by ASML?\")"
   ]
  },
  {
   "cell_type": "code",
   "execution_count": 17,
   "metadata": {},
   "outputs": [
    {
     "data": {
      "text/plain": [
       "\"ASML uses a combination of a research team from Philips, a dedicated product development team, and a precision alignment system to create machines that can print very small structures on wafers at a very high speed. The electric table, superior alignment technology, and Zeiss lenses are the technological foundation of ASML's machines.\""
      ]
     },
     "execution_count": 17,
     "metadata": {},
     "output_type": "execute_result"
    }
   ],
   "source": [
    "asml.query(\"Explain the technology used by ASML with simple words.\")"
   ]
  },
  {
   "cell_type": "code",
   "execution_count": 23,
   "metadata": {},
   "outputs": [
    {
     "data": {
      "text/plain": [
       "'ASML makes machines that help make tiny parts for computers. The machines use a special electric table and lenses from a company called Zeiss to make the parts quickly and accurately.'"
      ]
     },
     "execution_count": 23,
     "metadata": {},
     "output_type": "execute_result"
    }
   ],
   "source": [
    "asml.query(\"Explain the technology used by ASML as if I was 6 years old.\")"
   ]
  },
  {
   "cell_type": "code",
   "execution_count": 24,
   "metadata": {},
   "outputs": [
    {
     "data": {
      "text/plain": [
       "'In 1984, ASML launched a marketing campaign for their PAS 2000 steppers. In 1985, they launched a second campaign in the business press and started selling PAS 2500 steppers. They also set up a demo lab in Phoenix and a sales office in 1985. In 1991, the PAS 5500 was introduced and the machine started running reliably a year later. In 1992, their annual revenue jumped from $81 million to $119 million. In 1993, their annual revenue increased by 50%, and they turned a profit of $11 million. In 1996, they introduced their DUV version which can image quarter-micron details.'"
      ]
     },
     "execution_count": 24,
     "metadata": {},
     "output_type": "execute_result"
    }
   ],
   "source": [
    "asml.query(\"What are the key milestone of ASML between 1984 and 1995?\")"
   ]
  },
  {
   "cell_type": "code",
   "execution_count": 25,
   "metadata": {},
   "outputs": [
    {
     "data": {
      "text/plain": [
       "'{1984: \"ASML\\'s first business plan is a political document.\", 1986: \"ASML and IBM start talking about step-and-scan.\", 1992: \"In 1992 the company’s annual revenue jumped from $81 million to $119 million.\", 1993: \"In early 1993 everything’s largely under control; ASML has a reasonably reliable machine.\", 1996: \"At the start of 1996 ASML is financially independent at last.\"}'"
      ]
     },
     "execution_count": 25,
     "metadata": {},
     "output_type": "execute_result"
    }
   ],
   "source": [
    "asml.query(\"What are the key milestone of ASML between 1984 and 1995? Print the result as a JSON file\")"
   ]
  },
  {
   "cell_type": "code",
   "execution_count": 26,
   "metadata": {},
   "outputs": [
    {
     "data": {
      "text/plain": [
       "'- In 1984, ASML sets up a demo lab in Phoenix\\n- In 1985, ASML launches two marketing campaigns and sets up a sales office\\n- In 1986, ASML turns a profit and sets up a production facility in Silicon Valley\\n- In 1988, ASML sets up a production facility and a second demo lab in Japan\\n- In 1989, ASML pays off all its debt\\n- By the end of 1988, ASML is among the top three global suppliers of optical wafer steppers'"
      ]
     },
     "execution_count": 26,
     "metadata": {},
     "output_type": "execute_result"
    }
   ],
   "source": [
    "asml.query(\"What are the key milestone of ASML between 1984 and 1995? Print the result as bullet list in markdown format\")"
   ]
  },
  {
   "cell_type": "code",
   "execution_count": 27,
   "metadata": {},
   "outputs": [
    {
     "data": {
      "text/plain": [
       "'This document details the experiences of Wim Troost and Gjalt Smit in their efforts to run their companies. It covers the struggles they faced and their successes, as well as the strategies they used to help their businesses succeed. It also talks about the impact of other people on their plans, such as the Hay consultant hired by Smit to take stock of the situation.'"
      ]
     },
     "execution_count": 27,
     "metadata": {},
     "output_type": "execute_result"
    }
   ],
   "source": [
    "asml.query(\"Provide a summary of the document in 3 sentences\")"
   ]
  }
 ],
 "metadata": {
  "kernelspec": {
   "display_name": "Python 3",
   "language": "python",
   "name": "python3"
  },
  "language_info": {
   "codemirror_mode": {
    "name": "ipython",
    "version": 3
   },
   "file_extension": ".py",
   "mimetype": "text/x-python",
   "name": "python",
   "nbconvert_exporter": "python",
   "pygments_lexer": "ipython3",
   "version": "3.11.0"
  },
  "orig_nbformat": 4,
  "vscode": {
   "interpreter": {
    "hash": "ef4b2fc86474f308c2c162d8320f47a1bbfdce1148fdd81da886bfd477849216"
   }
  }
 },
 "nbformat": 4,
 "nbformat_minor": 2
}

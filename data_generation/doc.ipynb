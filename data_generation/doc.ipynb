{
 "cells": [
  {
   "cell_type": "code",
   "execution_count": 3,
   "metadata": {},
   "outputs": [],
   "source": [
    "import os\n",
    "import chromadb\n",
    "import pickle\n",
    "import pytesseract as pt\n",
    "from dotenv import load_dotenv\n",
    "from langchain.vectorstores import Chroma\n",
    "from langchain.embeddings.openai import OpenAIEmbeddings\n",
    "from langchain.llms import OpenAI\n",
    "from langchain.document_loaders import UnstructuredPDFLoader, OnlinePDFLoader\n",
    "from langchain.text_splitter import RecursiveCharacterTextSplitter\n",
    "from langchain.chains.question_answering import load_qa_chain\n",
    "from langchain.chains.summarize import load_summarize_chain\n",
    "\n",
    "load_dotenv()\n",
    "OPENAI_API_KEY = os.getenv(\"OPENAI_API_KEY\")\n",
    "\n",
    "embeddings = OpenAIEmbeddings(openai_api_key=OPENAI_API_KEY)\n",
    "llm = OpenAI(temperature=0, openai_api_key=OPENAI_API_KEY)\n",
    "\n",
    "pt.pytesseract.tesseract_cmd = \"C:\\\\Program Files\\\\Tesseract-OCR\\\\tesseract.exe\""
   ]
  },
  {
   "cell_type": "code",
   "execution_count": 16,
   "metadata": {},
   "outputs": [],
   "source": [
    "class ChatDoc:\n",
    "    def __init__(self, fileName: str):\n",
    "        self.fileName = fileName\n",
    "        self.init()\n",
    "\n",
    "    def load_from_pdf(self):\n",
    "        loader = UnstructuredPDFLoader(f\"../data/{self.fileName}.pdf\")\n",
    "        self.data = loader.load()\n",
    "        self.save_to_pkl()\n",
    "\n",
    "    def load_from_pkl(self):\n",
    "        with open(f\"../data/{self.fileName}.pkl\", \"rb\") as f:\n",
    "            self.data = pickle.load(f)\n",
    "\n",
    "    def save_to_pkl(self):\n",
    "        with open(f\"../data/{self.fileName}.pkl\", \"wb\") as f:\n",
    "            pickle.dump(self.data, f)\n",
    "\n",
    "    def init(self):\n",
    "        if os.path.exists(f\"../data/chroma/{self.fileName}\"):\n",
    "            self.docsearch = Chroma(persist_directory=f\"../data/chroma/{self.fileName}\", embedding_function=embeddings, collection_name=self.fileName)\n",
    "            return\n",
    "        \n",
    "        if os.path.exists(f\"../data/{self.fileName}.pkl\"):\n",
    "            self.load_from_pkl()\n",
    "        else:\n",
    "            self.load_from_pdf()\n",
    "\n",
    "        self.text_splitter = RecursiveCharacterTextSplitter(\n",
    "            chunk_size=1000, chunk_overlap=0\n",
    "        )\n",
    "        self.texts = self.text_splitter.split_documents(self.data)\n",
    "\n",
    "        self.docsearch = Chroma.from_texts(\n",
    "            [t.page_content for t in self.texts],\n",
    "            embeddings,\n",
    "            collection_name=self.fileName,\n",
    "            persist_directory=f\"../data/chroma/{self.fileName}\",\n",
    "        )\n",
    "\n",
    "        self.docsearch.persist()\n",
    "\n",
    "    def query(self, q: str):\n",
    "        docs = self.docsearch.similarity_search(q, include_metadata=True)\n",
    "        chain = load_qa_chain(llm, chain_type=\"stuff\")\n",
    "        return str(chain.run(input_documents=docs, question=q)).strip()\n",
    "\n",
    "    def summarize(self):\n",
    "        chain = load_summarize_chain(llm, chain_type=\"map_reduce\")\n",
    "        return str(chain.run(self.texts[:5])).strip()\n"
   ]
  },
  {
   "cell_type": "code",
   "execution_count": 21,
   "metadata": {},
   "outputs": [
    {
     "name": "stderr",
     "output_type": "stream",
     "text": [
      "Using embedded DuckDB with persistence: data will be stored in: ../data/chroma/deepfake\n"
     ]
    }
   ],
   "source": [
    "deepfake = ChatDoc(\"deepfake\")"
   ]
  },
  {
   "cell_type": "code",
   "execution_count": 17,
   "metadata": {},
   "outputs": [
    {
     "name": "stderr",
     "output_type": "stream",
     "text": [
      "Using embedded DuckDB with persistence: data will be stored in: ../data/chroma/lecture_notes\n"
     ]
    }
   ],
   "source": [
    "lecture_notes = ChatDoc(\"lecture_notes\")"
   ]
  },
  {
   "cell_type": "code",
   "execution_count": 13,
   "metadata": {},
   "outputs": [
    {
     "data": {
      "text/plain": [
       "'Computer Networks and Security (2IC60) is a course taught by T. Ozcelebi and J.I. den Hartog. This document provides a collection of course material, including lecture slides, lecture notes, suggested reading, and homework exercises. It covers topics such as push behind networks, standards and regulations, physical infrastructure, the Internet, the Internet of Things, network security goals, threats, security engineering, network protocols, protocol layers, network protocol stacks, services of a protocol layer, and performance.'"
      ]
     },
     "execution_count": 13,
     "metadata": {},
     "output_type": "execute_result"
    }
   ],
   "source": [
    "lecture_notes.summarize()"
   ]
  },
  {
   "cell_type": "code",
   "execution_count": 31,
   "metadata": {},
   "outputs": [
    {
     "data": {
      "text/plain": [
       "'The average transmission delay affects the average queuing delay by increasing the amount of time it takes for packets to be transmitted through the router. This can lead to an increase in the amount of time packets spend in the queue, as the router is unable to process them as quickly as they arrive. This can be especially noticeable in busy routers with a lot of traffic, as the transmission delay can cause the queue to become congested, leading to an increase in the average queuing delay.'"
      ]
     },
     "execution_count": 31,
     "metadata": {},
     "output_type": "execute_result"
    }
   ],
   "source": [
    "lecture_notes.query(\"\"\"\n",
    "How does the average transmission delay affect the average queuing delay?\n",
    "Consider busy routers with a lot of traffic and explain. (Not asking for a\n",
    "mathematical relation.)\n",
    "\"\"\")\n"
   ]
  },
  {
   "cell_type": "code",
   "execution_count": 22,
   "metadata": {},
   "outputs": [
    {
     "data": {
      "text/plain": [
       "\"This article discusses how AI is becoming more accessible and how it could be used to distort reality and affect the 2024 presidential election. It mentions how AI-generated audio, images, and videos of candidates could become a major threat and blur the line between what's real and what's fake.\""
      ]
     },
     "execution_count": 22,
     "metadata": {},
     "output_type": "execute_result"
    }
   ],
   "source": [
    "deepfake.query(\"Give me a summary of this article\")"
   ]
  }
 ],
 "metadata": {
  "kernelspec": {
   "display_name": "Python 3.10.0 64-bit",
   "language": "python",
   "name": "python3"
  },
  "language_info": {
   "codemirror_mode": {
    "name": "ipython",
    "version": 3
   },
   "file_extension": ".py",
   "mimetype": "text/x-python",
   "name": "python",
   "nbconvert_exporter": "python",
   "pygments_lexer": "ipython3",
   "version": "3.10.0"
  },
  "orig_nbformat": 4,
  "vscode": {
   "interpreter": {
    "hash": "acb3a031e7ffb3f1275f25c075c797e997a7f527e0596a441d11b72e31f0df05"
   }
  }
 },
 "nbformat": 4,
 "nbformat_minor": 2
}

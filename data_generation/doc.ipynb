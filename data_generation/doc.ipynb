{
 "cells": [
  {
   "cell_type": "code",
   "execution_count": 3,
   "metadata": {},
   "outputs": [],
   "source": [
    "import os\n",
    "import chromadb\n",
    "import pickle\n",
    "import pytesseract as pt\n",
    "from dotenv import load_dotenv\n",
    "from langchain.vectorstores import Chroma\n",
    "from langchain.embeddings.openai import OpenAIEmbeddings\n",
    "from langchain.llms import OpenAI\n",
    "from langchain.document_loaders import UnstructuredPDFLoader, OnlinePDFLoader\n",
    "from langchain.text_splitter import RecursiveCharacterTextSplitter\n",
    "from langchain.chains.question_answering import load_qa_chain\n",
    "from langchain.chains.summarize import load_summarize_chain\n",
    "\n",
    "load_dotenv()\n",
    "OPENAI_API_KEY = os.getenv(\"OPENAI_API_KEY\")\n",
    "\n",
    "embeddings = OpenAIEmbeddings(openai_api_key=OPENAI_API_KEY)\n",
    "llm = OpenAI(temperature=0, openai_api_key=OPENAI_API_KEY)\n",
    "\n",
    "pt.pytesseract.tesseract_cmd = \"C:\\\\Program Files\\\\Tesseract-OCR\\\\tesseract.exe\""
   ]
  },
  {
   "cell_type": "code",
   "execution_count": 16,
   "metadata": {},
   "outputs": [],
   "source": [
    "class ChatDoc:\n",
    "    def __init__(self, fileName: str):\n",
    "        self.fileName = fileName\n",
    "        self.init()\n",
    "\n",
    "    def load_from_pdf(self):\n",
    "        loader = UnstructuredPDFLoader(f\"../data/{self.fileName}.pdf\")\n",
    "        self.data = loader.load()\n",
    "        self.save_to_pkl()\n",
    "\n",
    "    def load_from_pkl(self):\n",
    "        with open(f\"../data/{self.fileName}.pkl\", \"rb\") as f:\n",
    "            self.data = pickle.load(f)\n",
    "\n",
    "    def save_to_pkl(self):\n",
    "        with open(f\"../data/{self.fileName}.pkl\", \"wb\") as f:\n",
    "            pickle.dump(self.data, f)\n",
    "\n",
    "    def init(self):\n",
    "        if os.path.exists(f\"../data/chroma/{self.fileName}\"):\n",
    "            self.docsearch = Chroma(persist_directory=f\"../data/chroma/{self.fileName}\", embedding_function=embeddings, collection_name=self.fileName)\n",
    "            return\n",
    "        \n",
    "        if os.path.exists(f\"../data/{self.fileName}.pkl\"):\n",
    "            self.load_from_pkl()\n",
    "        else:\n",
    "            self.load_from_pdf()\n",
    "\n",
    "        self.text_splitter = RecursiveCharacterTextSplitter(\n",
    "            chunk_size=1000, chunk_overlap=0\n",
    "        )\n",
    "        self.texts = self.text_splitter.split_documents(self.data)\n",
    "\n",
    "        self.docsearch = Chroma.from_texts(\n",
    "            [t.page_content for t in self.texts],\n",
    "            embeddings,\n",
    "            collection_name=self.fileName,\n",
    "            persist_directory=f\"../data/chroma/{self.fileName}\",\n",
    "        )\n",
    "\n",
    "        self.docsearch.persist()\n",
    "\n",
    "    def query(self, q: str):\n",
    "        docs = self.docsearch.similarity_search(q, include_metadata=True)\n",
    "        chain = load_qa_chain(llm, chain_type=\"stuff\")\n",
    "        return str(chain.run(input_documents=docs, question=q)).strip()\n",
    "\n",
    "    def summarize(self):\n",
    "        chain = load_summarize_chain(llm, chain_type=\"map_reduce\")\n",
    "        return str(chain.run(self.texts[:5])).strip()\n"
   ]
  },
  {
   "cell_type": "code",
   "execution_count": 17,
   "metadata": {},
   "outputs": [
    {
     "name": "stderr",
     "output_type": "stream",
     "text": [
      "Using embedded DuckDB with persistence: data will be stored in: ../data/chroma/lecture_notes\n"
     ]
    }
   ],
   "source": [
    "lecture_notes = ChatDoc(\"lecture_notes\")"
   ]
  },
  {
   "cell_type": "code",
   "execution_count": 13,
   "metadata": {},
   "outputs": [
    {
     "data": {
      "text/plain": [
       "'Computer Networks and Security (2IC60) is a course taught by T. Ozcelebi and J.I. den Hartog. This document provides a collection of course material, including lecture slides, lecture notes, suggested reading, and homework exercises. It covers topics such as push behind networks, standards and regulations, physical infrastructure, the Internet, the Internet of Things, network security goals, threats, security engineering, network protocols, protocol layers, network protocol stacks, services of a protocol layer, and performance.'"
      ]
     },
     "execution_count": 13,
     "metadata": {},
     "output_type": "execute_result"
    }
   ],
   "source": [
    "lecture_notes.summarize()"
   ]
  },
  {
   "cell_type": "code",
   "execution_count": 20,
   "metadata": {},
   "outputs": [
    {
     "data": {
      "text/plain": [
       "'Store-and-forward is used in packet switching networks, where packets move one hop (a single link) at a time. This is used for applications such as email, file transfer, and streaming media, where the entire packet needs to arrive at the router before it can be transmitted on the next link. It is also used in networks with multiple routers, where the packet needs to be transmitted from one router to the next before it can reach its destination.'"
      ]
     },
     "execution_count": 20,
     "metadata": {},
     "output_type": "execute_result"
    }
   ],
   "source": [
    "lecture_notes.query(\"What are some use cases of store-and-forward?\")\n"
   ]
  },
  {
   "cell_type": "code",
   "execution_count": 21,
   "metadata": {},
   "outputs": [
    {
     "name": "stderr",
     "output_type": "stream",
     "text": [
      "Using embedded DuckDB with persistence: data will be stored in: ../data/chroma/deepfake\n"
     ]
    }
   ],
   "source": [
    "deepfake = ChatDoc(\"deepfake\")"
   ]
  },
  {
   "cell_type": "code",
   "execution_count": 22,
   "metadata": {},
   "outputs": [
    {
     "data": {
      "text/plain": [
       "\"This article discusses how AI is becoming more accessible and how it could be used to distort reality and affect the 2024 presidential election. It mentions how AI-generated audio, images, and videos of candidates could become a major threat and blur the line between what's real and what's fake.\""
      ]
     },
     "execution_count": 22,
     "metadata": {},
     "output_type": "execute_result"
    }
   ],
   "source": [
    "deepfake.query(\"Give me a summary of this article\")"
   ]
  },
  {
   "cell_type": "code",
   "execution_count": 23,
   "metadata": {},
   "outputs": [
    {
     "data": {
      "text/plain": [
       "'The security principles are Confidentiality, Integrity, and Availability (the C-I-A triad).'"
      ]
     },
     "execution_count": 23,
     "metadata": {},
     "output_type": "execute_result"
    }
   ],
   "source": [
    "lecture_notes.query(\"What are the security principles?\")"
   ]
  },
  {
   "cell_type": "code",
   "execution_count": 31,
   "metadata": {},
   "outputs": [
    {
     "data": {
      "text/plain": [
       "'I agree with the conclusion of the article that a sort of instant fact-checker for social media users is necessary to combat the spread of fake news and deepfakes. This is especially important during the election season, when false information can have a significant impact on the outcome of the election. With a tool like this, people can quickly and easily verify the veracity of a piece of content before they share it, helping to reduce the spread of false information.'"
      ]
     },
     "execution_count": 31,
     "metadata": {},
     "output_type": "execute_result"
    }
   ],
   "source": [
    "deepfake.query(\"Write a paragraph about how you agree with the conclusion of the article and why.\")"
   ]
  }
 ],
 "metadata": {
  "kernelspec": {
   "display_name": "Python 3.10.0 64-bit",
   "language": "python",
   "name": "python3"
  },
  "language_info": {
   "codemirror_mode": {
    "name": "ipython",
    "version": 3
   },
   "file_extension": ".py",
   "mimetype": "text/x-python",
   "name": "python",
   "nbconvert_exporter": "python",
   "pygments_lexer": "ipython3",
   "version": "3.10.0"
  },
  "orig_nbformat": 4,
  "vscode": {
   "interpreter": {
    "hash": "acb3a031e7ffb3f1275f25c075c797e997a7f527e0596a441d11b72e31f0df05"
   }
  }
 },
 "nbformat": 4,
 "nbformat_minor": 2
}

{
 "cells": [
  {
   "cell_type": "code",
   "execution_count": 1,
   "id": "9d615a77",
   "metadata": {},
   "outputs": [],
   "source": [
    "# Install Python 3.10.0: https://www.python.org/ftp/python/3.10.0/python-3.10.0-amd64.exe\n",
    "# (optionally) upgrade pip: python3 -m pip install --upgrade pip\n",
    "\n",
    "# pip install wheel\n",
    "# pip install unstructured[local-inference]\n",
    "# pip install poppler-utils\n",
    "# pip install git+https://github.com/facebookresearch/detectron2.git\n",
    "\n",
    "# Download tesseract-ocr: https://digi.bib.uni-mannheim.de/tesseract/tesseract-ocr-w64-setup-5.3.1.20230401.exe\n",
    "# Download poppler: https://github.com/oschwartz10612/poppler-windows/releases/download/v23.01.0-0/Release-23.01.0-0.zip\n",
    "# Put poppler in path: C:\\Program Files\\Poppler\\Library\\bin\n",
    "\n",
    "# pip install pinecone-client[grpc] chromadb openai langchain tiktoken python-dotenv\n"
   ]
  },
  {
   "cell_type": "code",
   "execution_count": 4,
   "id": "2d3e92ed",
   "metadata": {},
   "outputs": [],
   "source": [
    "# import pytesseract as pt\n",
    "\n",
    "# pt.pytesseract.tesseract_cmd = \"C:\\\\Program Files\\\\Tesseract-OCR\\\\tesseract.exe\"\n",
    "\n",
    "# from langchain.document_loaders import UnstructuredPDFLoader, OnlinePDFLoader\n"
   ]
  },
  {
   "cell_type": "markdown",
   "id": "5166d759",
   "metadata": {},
   "source": [
    "### Load your data\n"
   ]
  },
  {
   "cell_type": "code",
   "execution_count": 5,
   "id": "b4a2d6bf",
   "metadata": {},
   "outputs": [],
   "source": [
    "# loader = UnstructuredPDFLoader(\"../data/field-guide-to-data-science.pdf\")\n",
    "# loader = OnlinePDFLoader(\"https://wolfpaulus.com/wp-content/uploads/2017/05/field-guide-to-data-science.pdf\")\n"
   ]
  },
  {
   "cell_type": "code",
   "execution_count": 6,
   "id": "bcdac23c",
   "metadata": {},
   "outputs": [],
   "source": [
    "# data = loader.load()\n"
   ]
  },
  {
   "cell_type": "code",
   "execution_count": 1,
   "id": "8bcd333f",
   "metadata": {},
   "outputs": [],
   "source": [
    "import pickle\n",
    "\n",
    "# with open(\"../data/field-guide-to-data-science.pkl\", \"wb\") as f:\n",
    "#     pickle.dump(data, f)\n",
    "\n",
    "with open(\"../data/lecture_notes.pkl\", \"rb\") as f:\n",
    "    data = pickle.load(f)\n"
   ]
  },
  {
   "cell_type": "code",
   "execution_count": 2,
   "id": "b4fd7c9e",
   "metadata": {},
   "outputs": [
    {
     "name": "stdout",
     "output_type": "stream",
     "text": [
      "You have 1 document(s) in your data\n",
      "There are 481103 characters in your document\n"
     ]
    }
   ],
   "source": [
    "print(f\"You have {len(data)} document(s) in your data\")\n",
    "print(f\"There are {len(data[0].page_content)} characters in your document\")\n"
   ]
  },
  {
   "cell_type": "markdown",
   "id": "8af9b604",
   "metadata": {},
   "source": [
    "### Chunk your data up into smaller documents\n"
   ]
  },
  {
   "cell_type": "code",
   "execution_count": 3,
   "id": "fb3c6f02",
   "metadata": {},
   "outputs": [],
   "source": [
    "from langchain.text_splitter import RecursiveCharacterTextSplitter\n",
    "\n",
    "text_splitter = RecursiveCharacterTextSplitter(chunk_size=1000, chunk_overlap=0)\n",
    "texts = text_splitter.split_documents(data)\n"
   ]
  },
  {
   "cell_type": "code",
   "execution_count": 4,
   "id": "879873a4",
   "metadata": {},
   "outputs": [
    {
     "name": "stdout",
     "output_type": "stream",
     "text": [
      "Now you have 618 documents\n"
     ]
    }
   ],
   "source": [
    "print(f\"Now you have {len(texts)} documents\")\n"
   ]
  },
  {
   "cell_type": "markdown",
   "id": "838b2843",
   "metadata": {},
   "source": [
    "### Create embeddings of your documents to get ready for semantic search\n"
   ]
  },
  {
   "cell_type": "code",
   "execution_count": 5,
   "id": "373e695a",
   "metadata": {},
   "outputs": [],
   "source": [
    "from langchain.vectorstores import Chroma\n",
    "from langchain.embeddings.openai import OpenAIEmbeddings\n",
    "import chromadb\n"
   ]
  },
  {
   "cell_type": "code",
   "execution_count": 6,
   "id": "0e093ef3",
   "metadata": {
    "hide_input": false
   },
   "outputs": [],
   "source": [
    "from dotenv import load_dotenv\n",
    "\n",
    "load_dotenv()\n",
    "\n",
    "import os\n",
    "\n",
    "OPENAI_API_KEY = os.getenv(\"OPENAI_API_KEY\")\n"
   ]
  },
  {
   "cell_type": "code",
   "execution_count": 7,
   "id": "4e0d1c6a",
   "metadata": {},
   "outputs": [],
   "source": [
    "embeddings = OpenAIEmbeddings(openai_api_key=OPENAI_API_KEY)\n"
   ]
  },
  {
   "cell_type": "code",
   "execution_count": 8,
   "id": "388988ce",
   "metadata": {},
   "outputs": [
    {
     "name": "stderr",
     "output_type": "stream",
     "text": [
      "Using embedded DuckDB without persistence: data will be transient\n"
     ]
    }
   ],
   "source": [
    "collection_name = \"lecture_notes\"\n",
    "docsearch = Chroma.from_texts(\n",
    "    [t.page_content for t in texts], embeddings, collection_name=collection_name\n",
    ")\n"
   ]
  },
  {
   "cell_type": "code",
   "execution_count": 9,
   "id": "34929595",
   "metadata": {},
   "outputs": [],
   "source": [
    "query = \"What is this book about?\"\n",
    "docs = docsearch.similarity_search(query, include_metadata=True)\n"
   ]
  },
  {
   "cell_type": "code",
   "execution_count": 10,
   "id": "4e0f5b45",
   "metadata": {},
   "outputs": [
    {
     "data": {
      "text/plain": [
       "'Each chapter of this document provides a literature section that describes suggested reading. The suggested reading is not part of the exam. It is for students who are interested in background information and/or a different perspective on or presenta'"
      ]
     },
     "execution_count": 10,
     "metadata": {},
     "output_type": "execute_result"
    }
   ],
   "source": [
    "# Here's an example of the first document that was returned\n",
    "docs[0].page_content[:250]\n"
   ]
  },
  {
   "cell_type": "markdown",
   "id": "3c35dcd9",
   "metadata": {},
   "source": [
    "### Query those docs to get your answer back\n"
   ]
  },
  {
   "cell_type": "code",
   "execution_count": 11,
   "id": "f051337b",
   "metadata": {},
   "outputs": [],
   "source": [
    "from langchain.llms import OpenAI\n",
    "from langchain.chains.question_answering import load_qa_chain\n"
   ]
  },
  {
   "cell_type": "code",
   "execution_count": 12,
   "id": "6b9b1c03",
   "metadata": {},
   "outputs": [],
   "source": [
    "llm = OpenAI(temperature=0, openai_api_key=OPENAI_API_KEY)\n"
   ]
  },
  {
   "cell_type": "code",
   "execution_count": 25,
   "id": "4707e74b",
   "metadata": {},
   "outputs": [
    {
     "data": {
      "text/plain": [
       "' The security issue in this article is related to protecting the online music store from attackers and their goals. This includes protecting the store from unauthorized access, data breaches, and other malicious activities. The security requirements engineering process should identify the actors, their interests, and interdependencies, as well as potential attackers and their goals. The security design should then be enhanced by considering potential threats and techniques introduced in chapters 8, 9, and 10, and by applying countermeasures, threats, and techniques to protect the store from attackers.'"
      ]
     },
     "execution_count": 25,
     "metadata": {},
     "output_type": "execute_result"
    }
   ],
   "source": [
    "query = \"\"\"\n",
    "\"\"\"\n",
    "\n",
    "docs = docsearch.similarity_search(query, include_metadata=True)\n",
    "chain = load_qa_chain(llm, chain_type=\"stuff\")\n",
    "chain.run(input_documents=docs, question=query)\n"
   ]
  },
  {
   "cell_type": "code",
   "execution_count": 18,
   "id": "fd29a27d",
   "metadata": {},
   "outputs": [],
   "source": [
    "# from langchain.chains.summarize import load_summarize_chain\n",
    "\n",
    "# chain = load_summarize_chain(llm, chain_type=\"map_reduce\")\n",
    "# chain.run(docs)\n"
   ]
  }
 ],
 "metadata": {
  "kernelspec": {
   "display_name": "Python 3.10.0 64-bit",
   "language": "python",
   "name": "python3"
  },
  "language_info": {
   "codemirror_mode": {
    "name": "ipython",
    "version": 3
   },
   "file_extension": ".py",
   "mimetype": "text/x-python",
   "name": "python",
   "nbconvert_exporter": "python",
   "pygments_lexer": "ipython3",
   "version": "3.10.0"
  },
  "vscode": {
   "interpreter": {
    "hash": "c5d01433c49bebc7c0f039aefb7a5f7006b5cc5372ab57f4229212c8564f15fd"
   }
  }
 },
 "nbformat": 4,
 "nbformat_minor": 5
}

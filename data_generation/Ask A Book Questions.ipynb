{
 "cells": [
  {
   "cell_type": "code",
   "execution_count": 1,
   "id": "9d615a77",
   "metadata": {},
   "outputs": [],
   "source": [
    "# Install Python 3.10.0: https://www.python.org/ftp/python/3.10.0/python-3.10.0-amd64.exe\n",
    "# (optionally) upgrade pip: python3 -m pip install --upgrade pip\n",
    "\n",
    "# pip install wheel\n",
    "# pip install unstructured[local-inference]\n",
    "# pip install poppler-utils\n",
    "# pip install git+https://github.com/facebookresearch/detectron2.git\n",
    "\n",
    "# Download tesseract-ocr: https://digi.bib.uni-mannheim.de/tesseract/tesseract-ocr-w64-setup-5.3.1.20230401.exe\n",
    "# Download poppler: https://github.com/oschwartz10612/poppler-windows/releases/download/v23.01.0-0/Release-23.01.0-0.zip\n",
    "# Put poppler in path: C:\\Program Files\\Poppler\\Library\\bin\n",
    "\n",
    "# Pinecone optional\n",
    "# pip install pinecone-client[grpc] chromadb openai langchain tiktoken python-dotenv\n"
   ]
  },
  {
   "cell_type": "code",
   "execution_count": 1,
   "id": "a7f8f02b",
   "metadata": {
    "vscode": {
     "languageId": "bat"
    }
   },
   "outputs": [
    {
     "name": "stdout",
     "output_type": "stream",
     "text": [
      "Collecting wheelNote: you may need to restart the kernel to use updated packages.\n"
     ]
    },
    {
     "name": "stderr",
     "output_type": "stream",
     "text": [
      "\n",
      "[notice] A new release of pip is available: 23.1.1 -> 23.1.2\n",
      "[notice] To update, run: python.exe -m pip install --upgrade pip\n"
     ]
    },
    {
     "name": "stdout",
     "output_type": "stream",
     "text": [
      "\n",
      "  Using cached wheel-0.40.0-py3-none-any.whl (64 kB)\n",
      "Installing collected packages: wheel\n",
      "Successfully installed wheel-0.40.0\n"
     ]
    }
   ],
   "source": [
    "pip install wheel"
   ]
  },
  {
   "cell_type": "code",
   "execution_count": 2,
   "id": "babfad6c",
   "metadata": {
    "vscode": {
     "languageId": "bat"
    }
   },
   "outputs": [
    {
     "name": "stdout",
     "output_type": "stream",
     "text": [
      "Collecting unstructured[local-inference]\n",
      "  Downloading unstructured-0.6.2-py3-none-any.whl (1.3 MB)\n",
      "     ---------------------------------------- 1.3/1.3 MB 12.1 MB/s eta 0:00:00\n",
      "Collecting argilla (from unstructured[local-inference])\n",
      "  Downloading argilla-1.6.0-py3-none-any.whl (2.2 MB)\n",
      "     ---------------------------------------- 2.2/2.2 MB 23.0 MB/s eta 0:00:00\n",
      "Requirement already satisfied: lxml in c:\\users\\bigyo\\appdata\\local\\programs\\python\\python311\\lib\\site-packages (from unstructured[local-inference]) (4.9.2)\n",
      "Collecting msg-parser (from unstructured[local-inference])\n",
      "  Downloading msg_parser-1.2.0-py2.py3-none-any.whl (101 kB)\n",
      "     -------------------------------------- 101.8/101.8 kB 5.7 MB/s eta 0:00:00\n",
      "Collecting nltk (from unstructured[local-inference])\n",
      "  Downloading nltk-3.8.1-py3-none-any.whl (1.5 MB)\n",
      "     ---------------------------------------- 1.5/1.5 MB 16.0 MB/s eta 0:00:00\n",
      "Collecting openpyxl (from unstructured[local-inference])\n",
      "  Downloading openpyxl-3.1.2-py2.py3-none-any.whl (249 kB)\n",
      "     ---------------------------------------- 250.0/250.0 kB ? eta 0:00:00\n",
      "Requirement already satisfied: pandas in c:\\users\\bigyo\\appdata\\local\\programs\\python\\python311\\lib\\site-packages (from unstructured[local-inference]) (1.5.3)\n",
      "Requirement already satisfied: pillow in c:\\users\\bigyo\\appdata\\local\\programs\\python\\python311\\lib\\site-packages (from unstructured[local-inference]) (9.3.0)\n",
      "Collecting pypandoc (from unstructured[local-inference])\n",
      "  Downloading pypandoc-1.11-py3-none-any.whl (20 kB)\n",
      "Collecting python-docx (from unstructured[local-inference])\n",
      "  Downloading python-docx-0.8.11.tar.gz (5.6 MB)\n",
      "     ---------------------------------------- 5.6/5.6 MB 22.2 MB/s eta 0:00:00\n",
      "  Preparing metadata (setup.py): started\n",
      "  Preparing metadata (setup.py): finished with status 'done'\n",
      "Collecting python-pptx (from unstructured[local-inference])\n",
      "  Downloading python-pptx-0.6.21.tar.gz (10.1 MB)\n",
      "     --------------------------------------- 10.1/10.1 MB 23.9 MB/s eta 0:00:00\n",
      "  Preparing metadata (setup.py): started\n",
      "  Preparing metadata (setup.py): finished with status 'done'\n",
      "Collecting python-magic (from unstructured[local-inference])\n",
      "  Downloading python_magic-0.4.27-py2.py3-none-any.whl (13 kB)\n",
      "Collecting markdown (from unstructured[local-inference])\n",
      "  Downloading Markdown-3.4.3-py3-none-any.whl (93 kB)\n",
      "     ---------------------------------------- 93.9/93.9 kB ? eta 0:00:00\n",
      "Requirement already satisfied: requests in c:\\users\\bigyo\\appdata\\local\\programs\\python\\python311\\lib\\site-packages (from unstructured[local-inference]) (2.28.2)\n",
      "Requirement already satisfied: certifi>=2022.12.07 in c:\\users\\bigyo\\appdata\\local\\programs\\python\\python311\\lib\\site-packages (from unstructured[local-inference]) (2022.12.7)\n",
      "Collecting unstructured-inference>=0.4.2 (from unstructured[local-inference])\n",
      "  Downloading unstructured_inference-0.4.2.tar.gz (33 kB)\n",
      "  Preparing metadata (setup.py): started\n",
      "  Preparing metadata (setup.py): finished with status 'done'\n",
      "Requirement already satisfied: fastapi in c:\\users\\bigyo\\appdata\\local\\programs\\python\\python311\\lib\\site-packages (from unstructured-inference>=0.4.2->unstructured[local-inference]) (0.89.1)\n",
      "Collecting layoutparser[layoutmodels,tesseract] (from unstructured-inference>=0.4.2->unstructured[local-inference])\n",
      "  Downloading layoutparser-0.3.4-py3-none-any.whl (19.2 MB)\n",
      "     --------------------------------------- 19.2/19.2 MB 17.7 MB/s eta 0:00:00\n",
      "Requirement already satisfied: python-multipart in c:\\users\\bigyo\\appdata\\local\\programs\\python\\python311\\lib\\site-packages (from unstructured-inference>=0.4.2->unstructured[local-inference]) (0.0.5)\n",
      "Requirement already satisfied: uvicorn in c:\\users\\bigyo\\appdata\\local\\programs\\python\\python311\\lib\\site-packages (from unstructured-inference>=0.4.2->unstructured[local-inference]) (0.20.0)\n",
      "Requirement already satisfied: huggingface-hub in c:\\users\\bigyo\\appdata\\local\\programs\\python\\python311\\lib\\site-packages (from unstructured-inference>=0.4.2->unstructured[local-inference]) (0.11.1)\n",
      "Collecting opencv-python!=4.7.0.68 (from unstructured-inference>=0.4.2->unstructured[local-inference])\n",
      "  Using cached opencv_python-4.7.0.72-cp37-abi3-win_amd64.whl (38.2 MB)\n",
      "INFO: pip is looking at multiple versions of unstructured-inference to determine which version is compatible with other requirements. This could take a while.\n",
      "Collecting unstructured[local-inference]\n",
      "  Downloading unstructured-0.6.1.tar.gz (1.3 MB)\n",
      "     ---------------------------------------- 1.3/1.3 MB 20.9 MB/s eta 0:00:00\n",
      "  Preparing metadata (setup.py): started\n",
      "  Preparing metadata (setup.py): finished with status 'done'\n",
      "  Downloading unstructured-0.6.0.tar.gz (1.3 MB)\n",
      "     ---------------------------------------- 1.3/1.3 MB 20.6 MB/s eta 0:00:00\n",
      "  Preparing metadata (setup.py): started\n",
      "  Preparing metadata (setup.py): finished with status 'done'\n",
      "  Downloading unstructured-0.5.13-py3-none-any.whl (1.3 MB)\n",
      "     ---------------------------------------- 1.3/1.3 MB 21.2 MB/s eta 0:00:00\n",
      "Collecting unstructured-inference==0.3.2 (from unstructured[local-inference])\n",
      "  Downloading unstructured_inference-0.3.2.tar.gz (31 kB)\n",
      "  Preparing metadata (setup.py): started\n",
      "  Preparing metadata (setup.py): finished with status 'done'\n",
      "Collecting opencv-python==4.6.0.66 (from unstructured-inference==0.3.2->unstructured[local-inference])\n",
      "  Using cached opencv_python-4.6.0.66-cp36-abi3-win_amd64.whl (35.6 MB)\n",
      "Collecting unstructured[local-inference]\n",
      "  Downloading unstructured-0.5.12-py3-none-any.whl (1.3 MB)\n",
      "     ---------------------------------------- 1.3/1.3 MB 20.8 MB/s eta 0:00:00\n",
      "  Downloading unstructured-0.5.11.tar.gz (1.3 MB)\n",
      "     ---------------------------------------- 1.3/1.3 MB 11.7 MB/s eta 0:00:00\n",
      "  Preparing metadata (setup.py): started\n",
      "  Preparing metadata (setup.py): finished with status 'done'\n",
      "  Downloading unstructured-0.5.10.tar.gz (1.3 MB)\n",
      "     ---------------------------------------- 1.3/1.3 MB 20.8 MB/s eta 0:00:00\n",
      "  Preparing metadata (setup.py): started\n",
      "  Preparing metadata (setup.py): finished with status 'done'\n",
      "  Downloading unstructured-0.5.9.tar.gz (1.3 MB)\n",
      "     ---------------------------------------- 1.3/1.3 MB 20.8 MB/s eta 0:00:00\n",
      "  Preparing metadata (setup.py): started\n",
      "  Preparing metadata (setup.py): finished with status 'done'\n",
      "Collecting unstructured-inference~=0.2.4 (from unstructured[local-inference])\n",
      "  Downloading unstructured_inference-0.2.11.tar.gz (17 kB)\n",
      "  Preparing metadata (setup.py): started\n",
      "  Preparing metadata (setup.py): finished with status 'done'\n",
      "INFO: pip is looking at multiple versions of unstructured-inference to determine which version is compatible with other requirements. This could take a while.\n",
      "  Downloading unstructured_inference-0.2.10.tar.gz (17 kB)\n",
      "  Preparing metadata (setup.py): started\n",
      "  Preparing metadata (setup.py): finished with status 'done'\n",
      "  Downloading unstructured_inference-0.2.7.tar.gz (18 kB)\n",
      "  Preparing metadata (setup.py): started\n",
      "  Preparing metadata (setup.py): finished with status 'done'\n",
      "  Downloading unstructured_inference-0.2.5.tar.gz (17 kB)\n",
      "  Preparing metadata (setup.py): started\n",
      "  Preparing metadata (setup.py): finished with status 'done'\n",
      "  Downloading unstructured_inference-0.2.4.tar.gz (10 kB)\n",
      "  Preparing metadata (setup.py): started\n",
      "  Preparing metadata (setup.py): finished with status 'done'\n",
      "Requirement already satisfied: numpy>=1.21.2 in c:\\users\\bigyo\\appdata\\local\\programs\\python\\python311\\lib\\site-packages (from opencv-python==4.6.0.66->unstructured-inference==0.3.2->unstructured[local-inference]) (1.23.4)\n",
      "Requirement already satisfied: httpx<0.24,>=0.15 in c:\\users\\bigyo\\appdata\\local\\programs\\python\\python311\\lib\\site-packages (from argilla->unstructured[local-inference]) (0.23.3)\n",
      "Collecting deprecated~=1.2.0 (from argilla->unstructured[local-inference])\n",
      "  Downloading Deprecated-1.2.13-py2.py3-none-any.whl (9.6 kB)\n",
      "Requirement already satisfied: packaging>=20.0 in c:\\users\\bigyo\\appdata\\roaming\\python\\python311\\site-packages (from argilla->unstructured[local-inference]) (21.3)\n",
      "Requirement already satisfied: pydantic>=1.7.1 in c:\\users\\bigyo\\appdata\\local\\programs\\python\\python311\\lib\\site-packages (from argilla->unstructured[local-inference]) (1.10.4)\n",
      "Collecting wrapt<1.15,>=1.13 (from argilla->unstructured[local-inference])\n",
      "  Downloading wrapt-1.14.1.tar.gz (50 kB)\n",
      "     ---------------------------------------- 50.9/50.9 kB ? eta 0:00:00\n",
      "  Preparing metadata (setup.py): started\n",
      "  Preparing metadata (setup.py): finished with status 'done'\n",
      "Requirement already satisfied: tqdm>=4.27.0 in c:\\users\\bigyo\\appdata\\local\\programs\\python\\python311\\lib\\site-packages (from argilla->unstructured[local-inference]) (4.64.1)\n",
      "Collecting backoff (from argilla->unstructured[local-inference])\n",
      "  Downloading backoff-2.2.1-py3-none-any.whl (15 kB)\n",
      "Collecting monotonic (from argilla->unstructured[local-inference])\n",
      "  Downloading monotonic-1.6-py2.py3-none-any.whl (8.2 kB)\n",
      "Collecting rich<=13.0.1 (from argilla->unstructured[local-inference])\n",
      "  Downloading rich-13.0.1-py3-none-any.whl (238 kB)\n",
      "     ---------------------------------------- 238.1/238.1 kB ? eta 0:00:00\n",
      "Requirement already satisfied: python-dateutil>=2.8.1 in c:\\users\\bigyo\\appdata\\roaming\\python\\python311\\site-packages (from pandas->unstructured[local-inference]) (2.8.2)\n",
      "Requirement already satisfied: pytz>=2020.1 in c:\\users\\bigyo\\appdata\\local\\programs\\python\\python311\\lib\\site-packages (from pandas->unstructured[local-inference]) (2022.7.1)\n",
      "Collecting olefile>=0.46 (from msg-parser->unstructured[local-inference])\n",
      "  Downloading olefile-0.46.zip (112 kB)\n",
      "     -------------------------------------- 112.2/112.2 kB 6.8 MB/s eta 0:00:00\n",
      "  Preparing metadata (setup.py): started\n",
      "  Preparing metadata (setup.py): finished with status 'done'\n",
      "Requirement already satisfied: click in c:\\users\\bigyo\\appdata\\local\\programs\\python\\python311\\lib\\site-packages (from nltk->unstructured[local-inference]) (8.1.3)\n",
      "Collecting joblib (from nltk->unstructured[local-inference])\n",
      "  Using cached joblib-1.2.0-py3-none-any.whl (297 kB)\n",
      "Requirement already satisfied: regex>=2021.8.3 in c:\\users\\bigyo\\appdata\\local\\programs\\python\\python311\\lib\\site-packages (from nltk->unstructured[local-inference]) (2022.10.31)\n",
      "Collecting et-xmlfile (from openpyxl->unstructured[local-inference])\n",
      "  Downloading et_xmlfile-1.1.0-py3-none-any.whl (4.7 kB)\n",
      "Collecting XlsxWriter>=0.5.7 (from python-pptx->unstructured[local-inference])\n",
      "  Downloading XlsxWriter-3.1.0-py3-none-any.whl (152 kB)\n",
      "     -------------------------------------- 152.7/152.7 kB 9.5 MB/s eta 0:00:00\n",
      "Requirement already satisfied: charset-normalizer<4,>=2 in c:\\users\\bigyo\\appdata\\local\\programs\\python\\python311\\lib\\site-packages (from requests->unstructured[local-inference]) (2.1.1)\n",
      "Requirement already satisfied: idna<4,>=2.5 in c:\\users\\bigyo\\appdata\\roaming\\python\\python311\\site-packages (from requests->unstructured[local-inference]) (3.4)\n",
      "Requirement already satisfied: urllib3<1.27,>=1.21.1 in c:\\users\\bigyo\\appdata\\local\\programs\\python\\python311\\lib\\site-packages (from requests->unstructured[local-inference]) (1.26.14)\n",
      "Requirement already satisfied: httpcore<0.17.0,>=0.15.0 in c:\\users\\bigyo\\appdata\\local\\programs\\python\\python311\\lib\\site-packages (from httpx<0.24,>=0.15->argilla->unstructured[local-inference]) (0.16.3)\n",
      "Requirement already satisfied: rfc3986[idna2008]<2,>=1.3 in c:\\users\\bigyo\\appdata\\local\\programs\\python\\python311\\lib\\site-packages (from httpx<0.24,>=0.15->argilla->unstructured[local-inference]) (1.5.0)\n",
      "Requirement already satisfied: sniffio in c:\\users\\bigyo\\appdata\\roaming\\python\\python311\\site-packages (from httpx<0.24,>=0.15->argilla->unstructured[local-inference]) (1.3.0)\n",
      "Requirement already satisfied: pyparsing!=3.0.5,>=2.0.2 in c:\\users\\bigyo\\appdata\\roaming\\python\\python311\\site-packages (from packaging>=20.0->argilla->unstructured[local-inference]) (3.0.9)\n",
      "Requirement already satisfied: typing-extensions>=4.2.0 in c:\\users\\bigyo\\appdata\\local\\programs\\python\\python311\\lib\\site-packages (from pydantic>=1.7.1->argilla->unstructured[local-inference]) (4.4.0)\n",
      "Requirement already satisfied: six>=1.5 in c:\\users\\bigyo\\appdata\\roaming\\python\\python311\\site-packages (from python-dateutil>=2.8.1->pandas->unstructured[local-inference]) (1.16.0)\n",
      "Collecting commonmark<0.10.0,>=0.9.0 (from rich<=13.0.1->argilla->unstructured[local-inference])\n",
      "  Using cached commonmark-0.9.1-py2.py3-none-any.whl (51 kB)\n",
      "Requirement already satisfied: pygments<3.0.0,>=2.6.0 in c:\\users\\bigyo\\appdata\\roaming\\python\\python311\\site-packages (from rich<=13.0.1->argilla->unstructured[local-inference]) (2.13.0)\n",
      "Requirement already satisfied: colorama in c:\\users\\bigyo\\appdata\\roaming\\python\\python311\\site-packages (from tqdm>=4.27.0->argilla->unstructured[local-inference]) (0.4.6)\n",
      "Requirement already satisfied: starlette==0.22.0 in c:\\users\\bigyo\\appdata\\local\\programs\\python\\python311\\lib\\site-packages (from fastapi->unstructured-inference>=0.4.2->unstructured[local-inference]) (0.22.0)\n",
      "Requirement already satisfied: anyio<5,>=3.4.0 in c:\\users\\bigyo\\appdata\\roaming\\python\\python311\\site-packages (from starlette==0.22.0->fastapi->unstructured-inference>=0.4.2->unstructured[local-inference]) (3.6.2)\n",
      "Requirement already satisfied: filelock in c:\\users\\bigyo\\appdata\\local\\programs\\python\\python311\\lib\\site-packages (from huggingface-hub->unstructured-inference>=0.4.2->unstructured[local-inference]) (3.9.0)\n",
      "Requirement already satisfied: pyyaml>=5.1 in c:\\users\\bigyo\\appdata\\local\\programs\\python\\python311\\lib\\site-packages (from huggingface-hub->unstructured-inference>=0.4.2->unstructured[local-inference]) (6.0)\n",
      "Collecting scipy (from layoutparser[layoutmodels,tesseract]->unstructured-inference>=0.4.2->unstructured[local-inference])\n",
      "  Downloading scipy-1.10.1-cp311-cp311-win_amd64.whl (42.2 MB)\n",
      "     --------------------------------------- 42.2/42.2 MB 18.7 MB/s eta 0:00:00\n",
      "Collecting iopath (from layoutparser[layoutmodels,tesseract]->unstructured-inference>=0.4.2->unstructured[local-inference])\n",
      "  Downloading iopath-0.1.10.tar.gz (42 kB)\n",
      "     ---------------------------------------- 42.2/42.2 kB 2.0 MB/s eta 0:00:00\n",
      "  Preparing metadata (setup.py): started\n",
      "  Preparing metadata (setup.py): finished with status 'done'\n",
      "Collecting pdfplumber (from layoutparser[layoutmodels,tesseract]->unstructured-inference>=0.4.2->unstructured[local-inference])\n",
      "  Downloading pdfplumber-0.9.0-py3-none-any.whl (46 kB)\n",
      "     ---------------------------------------- 46.1/46.1 kB 2.4 MB/s eta 0:00:00\n",
      "Collecting pdf2image (from layoutparser[layoutmodels,tesseract]->unstructured-inference>=0.4.2->unstructured[local-inference])\n",
      "  Downloading pdf2image-1.16.3-py3-none-any.whl (11 kB)\n",
      "Collecting torch (from layoutparser[layoutmodels,tesseract]->unstructured-inference>=0.4.2->unstructured[local-inference])\n",
      "  Downloading torch-2.0.0-cp311-cp311-win_amd64.whl (172.3 MB)\n",
      "     ------------------------------------- 172.3/172.3 MB 10.4 MB/s eta 0:00:00\n",
      "Collecting torchvision (from layoutparser[layoutmodels,tesseract]->unstructured-inference>=0.4.2->unstructured[local-inference])\n",
      "  Downloading torchvision-0.15.1-cp311-cp311-win_amd64.whl (1.2 MB)\n",
      "     ---------------------------------------- 1.2/1.2 MB 15.0 MB/s eta 0:00:00\n",
      "Collecting effdet (from layoutparser[layoutmodels,tesseract]->unstructured-inference>=0.4.2->unstructured[local-inference])\n",
      "  Downloading effdet-0.3.0-py3-none-any.whl (112 kB)\n",
      "     -------------------------------------- 112.2/112.2 kB 6.4 MB/s eta 0:00:00\n",
      "Collecting pytesseract (from layoutparser[layoutmodels,tesseract]->unstructured-inference>=0.4.2->unstructured[local-inference])\n",
      "  Downloading pytesseract-0.3.10-py3-none-any.whl (14 kB)\n",
      "Requirement already satisfied: h11>=0.8 in c:\\users\\bigyo\\appdata\\local\\programs\\python\\python311\\lib\\site-packages (from uvicorn->unstructured-inference>=0.4.2->unstructured[local-inference]) (0.14.0)\n",
      "Collecting timm>=0.4.12 (from effdet->layoutparser[layoutmodels,tesseract]->unstructured-inference>=0.4.2->unstructured[local-inference])\n",
      "  Downloading timm-0.6.13-py3-none-any.whl (549 kB)\n",
      "     ------------------------------------- 549.1/549.1 kB 11.5 MB/s eta 0:00:00\n",
      "Collecting pycocotools>=2.0.2 (from effdet->layoutparser[layoutmodels,tesseract]->unstructured-inference>=0.4.2->unstructured[local-inference])\n",
      "  Downloading pycocotools-2.0.6.tar.gz (24 kB)\n",
      "  Installing build dependencies: started\n",
      "  Installing build dependencies: finished with status 'done'\n",
      "  Getting requirements to build wheel: started\n",
      "  Getting requirements to build wheel: finished with status 'done'\n",
      "  Preparing metadata (pyproject.toml): started\n",
      "  Preparing metadata (pyproject.toml): finished with status 'done'\n",
      "Collecting omegaconf>=2.0 (from effdet->layoutparser[layoutmodels,tesseract]->unstructured-inference>=0.4.2->unstructured[local-inference])\n",
      "  Downloading omegaconf-2.3.0-py3-none-any.whl (79 kB)\n",
      "     ---------------------------------------- 79.5/79.5 kB 2.2 MB/s eta 0:00:00\n",
      "Requirement already satisfied: sympy in c:\\users\\bigyo\\appdata\\local\\programs\\python\\python311\\lib\\site-packages (from torch->layoutparser[layoutmodels,tesseract]->unstructured-inference>=0.4.2->unstructured[local-inference]) (1.11.1)\n",
      "Collecting networkx (from torch->layoutparser[layoutmodels,tesseract]->unstructured-inference>=0.4.2->unstructured[local-inference])\n",
      "  Downloading networkx-3.1-py3-none-any.whl (2.1 MB)\n",
      "     ---------------------------------------- 2.1/2.1 MB 18.9 MB/s eta 0:00:00\n",
      "Requirement already satisfied: jinja2 in c:\\users\\bigyo\\appdata\\roaming\\python\\python311\\site-packages (from torch->layoutparser[layoutmodels,tesseract]->unstructured-inference>=0.4.2->unstructured[local-inference]) (3.1.2)\n",
      "Collecting portalocker (from iopath->layoutparser[layoutmodels,tesseract]->unstructured-inference>=0.4.2->unstructured[local-inference])\n",
      "  Using cached portalocker-2.7.0-py2.py3-none-any.whl (15 kB)\n",
      "Collecting pdfminer.six==20221105 (from pdfplumber->layoutparser[layoutmodels,tesseract]->unstructured-inference>=0.4.2->unstructured[local-inference])\n",
      "  Downloading pdfminer.six-20221105-py3-none-any.whl (5.6 MB)\n",
      "     ---------------------------------------- 5.6/5.6 MB 21.1 MB/s eta 0:00:00\n",
      "Collecting Wand>=0.6.10 (from pdfplumber->layoutparser[layoutmodels,tesseract]->unstructured-inference>=0.4.2->unstructured[local-inference])\n",
      "  Downloading Wand-0.6.11-py2.py3-none-any.whl (143 kB)\n",
      "     -------------------------------------- 143.6/143.6 kB 8.3 MB/s eta 0:00:00\n",
      "Collecting cryptography>=36.0.0 (from pdfminer.six==20221105->pdfplumber->layoutparser[layoutmodels,tesseract]->unstructured-inference>=0.4.2->unstructured[local-inference])\n",
      "  Downloading cryptography-40.0.2-cp36-abi3-win_amd64.whl (2.6 MB)\n",
      "     ---------------------------------------- 2.6/2.6 MB 20.8 MB/s eta 0:00:00\n",
      "Collecting antlr4-python3-runtime==4.9.* (from omegaconf>=2.0->effdet->layoutparser[layoutmodels,tesseract]->unstructured-inference>=0.4.2->unstructured[local-inference])\n",
      "  Using cached antlr4-python3-runtime-4.9.3.tar.gz (117 kB)\n",
      "  Preparing metadata (setup.py): started\n",
      "  Preparing metadata (setup.py): finished with status 'done'\n",
      "Requirement already satisfied: matplotlib>=2.1.0 in c:\\users\\bigyo\\appdata\\local\\programs\\python\\python311\\lib\\site-packages (from pycocotools>=2.0.2->effdet->layoutparser[layoutmodels,tesseract]->unstructured-inference>=0.4.2->unstructured[local-inference]) (3.6.2)\n",
      "Requirement already satisfied: MarkupSafe>=2.0 in c:\\users\\bigyo\\appdata\\roaming\\python\\python311\\site-packages (from jinja2->torch->layoutparser[layoutmodels,tesseract]->unstructured-inference>=0.4.2->unstructured[local-inference]) (2.1.1)\n",
      "Requirement already satisfied: pywin32>=226 in c:\\users\\bigyo\\appdata\\roaming\\python\\python311\\site-packages (from portalocker->iopath->layoutparser[layoutmodels,tesseract]->unstructured-inference>=0.4.2->unstructured[local-inference]) (305)\n",
      "Requirement already satisfied: mpmath>=0.19 in c:\\users\\bigyo\\appdata\\local\\programs\\python\\python311\\lib\\site-packages (from sympy->torch->layoutparser[layoutmodels,tesseract]->unstructured-inference>=0.4.2->unstructured[local-inference]) (1.2.1)\n",
      "Requirement already satisfied: cffi>=1.12 in c:\\users\\bigyo\\appdata\\roaming\\python\\python311\\site-packages (from cryptography>=36.0.0->pdfminer.six==20221105->pdfplumber->layoutparser[layoutmodels,tesseract]->unstructured-inference>=0.4.2->unstructured[local-inference]) (1.15.1)\n",
      "Requirement already satisfied: contourpy>=1.0.1 in c:\\users\\bigyo\\appdata\\local\\programs\\python\\python311\\lib\\site-packages (from matplotlib>=2.1.0->pycocotools>=2.0.2->effdet->layoutparser[layoutmodels,tesseract]->unstructured-inference>=0.4.2->unstructured[local-inference]) (1.0.6)\n",
      "Requirement already satisfied: cycler>=0.10 in c:\\users\\bigyo\\appdata\\local\\programs\\python\\python311\\lib\\site-packages (from matplotlib>=2.1.0->pycocotools>=2.0.2->effdet->layoutparser[layoutmodels,tesseract]->unstructured-inference>=0.4.2->unstructured[local-inference]) (0.11.0)\n",
      "Requirement already satisfied: fonttools>=4.22.0 in c:\\users\\bigyo\\appdata\\local\\programs\\python\\python311\\lib\\site-packages (from matplotlib>=2.1.0->pycocotools>=2.0.2->effdet->layoutparser[layoutmodels,tesseract]->unstructured-inference>=0.4.2->unstructured[local-inference]) (4.38.0)\n",
      "Requirement already satisfied: kiwisolver>=1.0.1 in c:\\users\\bigyo\\appdata\\local\\programs\\python\\python311\\lib\\site-packages (from matplotlib>=2.1.0->pycocotools>=2.0.2->effdet->layoutparser[layoutmodels,tesseract]->unstructured-inference>=0.4.2->unstructured[local-inference]) (1.4.4)\n",
      "Requirement already satisfied: pycparser in c:\\users\\bigyo\\appdata\\roaming\\python\\python311\\site-packages (from cffi>=1.12->cryptography>=36.0.0->pdfminer.six==20221105->pdfplumber->layoutparser[layoutmodels,tesseract]->unstructured-inference>=0.4.2->unstructured[local-inference]) (2.21)\n",
      "Building wheels for collected packages: unstructured-inference, python-docx, python-pptx, unstructured, olefile, wrapt, iopath, antlr4-python3-runtime, pycocotools\n",
      "  Building wheel for unstructured-inference (setup.py): started\n",
      "  Building wheel for unstructured-inference (setup.py): finished with status 'done'\n",
      "  Created wheel for unstructured-inference: filename=unstructured_inference-0.2.4-py3-none-any.whl size=10121 sha256=f05b2d6527804e7d63ee4fb07b8b70b63c29a215530b1680c8407ed01db4ba71\n",
      "  Stored in directory: c:\\users\\bigyo\\appdata\\local\\pip\\cache\\wheels\\5e\\ce\\36\\a51abd7689408303bcb9022d431357234422f446acde4ab50a\n",
      "  Building wheel for python-docx (setup.py): started\n",
      "  Building wheel for python-docx (setup.py): finished with status 'done'\n",
      "  Created wheel for python-docx: filename=python_docx-0.8.11-py3-none-any.whl size=184519 sha256=d53cc174be233b1b6805b1cc955167abf522607dd300ef57e603226923cbb1a2\n",
      "  Stored in directory: c:\\users\\bigyo\\appdata\\local\\pip\\cache\\wheels\\b2\\11\\b8\\209e41af524253c9ba6c2a8b8ecec0f98ecbc28c732512803c\n",
      "  Building wheel for python-pptx (setup.py): started\n",
      "  Building wheel for python-pptx (setup.py): finished with status 'done'\n",
      "  Created wheel for python-pptx: filename=python_pptx-0.6.21-py3-none-any.whl size=470992 sha256=0891623f1a3da98ce1dcbf85a2da8d00a1d0201b8fa3838d47a355607738f429\n",
      "  Stored in directory: c:\\users\\bigyo\\appdata\\local\\pip\\cache\\wheels\\f4\\c7\\af\\d1d91f3decfaa7621033f30b69a29bf0b1206005663d233e7a\n",
      "  Building wheel for unstructured (setup.py): started\n",
      "  Building wheel for unstructured (setup.py): finished with status 'done'\n",
      "  Created wheel for unstructured: filename=unstructured-0.5.9-py3-none-any.whl size=1319660 sha256=f4d5c09cfe442a57278706a8205201f073259e9dba36120a770ebb22a5b566c4\n",
      "  Stored in directory: c:\\users\\bigyo\\appdata\\local\\pip\\cache\\wheels\\07\\fd\\a7\\0f08259a333bed9c06cfe67b9d9fc1d34ed333b4c551cca543\n",
      "  Building wheel for olefile (setup.py): started\n",
      "  Building wheel for olefile (setup.py): finished with status 'done'\n",
      "  Created wheel for olefile: filename=olefile-0.46-py2.py3-none-any.whl size=35471 sha256=7cc047a60434cd398e80155de1ccd1d9bfcfb841c8a3fe7b71bfd77bf5d05f2e\n",
      "  Stored in directory: c:\\users\\bigyo\\appdata\\local\\pip\\cache\\wheels\\7a\\28\\c9\\4745d0108b03ae5933fd107bd3946eec0d9fa794f8ce837a46\n",
      "  Building wheel for wrapt (setup.py): started\n",
      "  Building wheel for wrapt (setup.py): finished with status 'done'\n",
      "  Created wheel for wrapt: filename=wrapt-1.14.1-cp311-cp311-win_amd64.whl size=35495 sha256=706e13de487d685fe6fecf8f08f76e2c00eb13628b5a5615f6873b3bbbcb812c\n",
      "  Stored in directory: c:\\users\\bigyo\\appdata\\local\\pip\\cache\\wheels\\eb\\b6\\fa\\5ab6f4107cad63fa04c54ad78d75bb7035119bdd4f751df5ae\n",
      "  Building wheel for iopath (setup.py): started\n",
      "  Building wheel for iopath (setup.py): finished with status 'done'\n",
      "  Created wheel for iopath: filename=iopath-0.1.10-py3-none-any.whl size=31540 sha256=a3a15c4e5324ea25bdf01844c1ed478c11c095cb60abfdc37f6fdab65bd32dd2\n",
      "  Stored in directory: c:\\users\\bigyo\\appdata\\local\\pip\\cache\\wheels\\ba\\5e\\16\\6117f8fe7e9c0c161a795e10d94645ebcf301ccbd01f66d8ec\n",
      "  Building wheel for antlr4-python3-runtime (setup.py): started\n",
      "  Building wheel for antlr4-python3-runtime (setup.py): finished with status 'done'\n",
      "  Created wheel for antlr4-python3-runtime: filename=antlr4_python3_runtime-4.9.3-py3-none-any.whl size=144578 sha256=c5346d0ab2f57e14d1866fd41c53e7d6971424dce31d84ea2d82b6b7facf599a\n",
      "  Stored in directory: c:\\users\\bigyo\\appdata\\local\\pip\\cache\\wheels\\1a\\97\\32\\461f837398029ad76911109f07047fde1d7b661a147c7c56d1\n",
      "  Building wheel for pycocotools (pyproject.toml): started\n",
      "  Building wheel for pycocotools (pyproject.toml): finished with status 'done'\n",
      "  Created wheel for pycocotools: filename=pycocotools-2.0.6-cp311-cp311-win_amd64.whl size=75941 sha256=e3790421ff0d70d7fdd6d9f69ba2efa5be0f086e843c3537a25ff29cffe0a86e\n",
      "  Stored in directory: c:\\users\\bigyo\\appdata\\local\\pip\\cache\\wheels\\ad\\ca\\ea\\fb115e04c841c3f71fd369b7d9805a43a5193f4f9251bed0ec\n",
      "Successfully built unstructured-inference python-docx python-pptx unstructured olefile wrapt iopath antlr4-python3-runtime pycocotools\n",
      "Installing collected packages: Wand, monotonic, commonmark, antlr4-python3-runtime, XlsxWriter, wrapt, scipy, rich, python-magic, python-docx, pypandoc, portalocker, pdf2image, opencv-python, omegaconf, olefile, networkx, markdown, joblib, et-xmlfile, backoff, torch, python-pptx, pytesseract, openpyxl, nltk, msg-parser, iopath, deprecated, cryptography, torchvision, pycocotools, pdfminer.six, timm, pdfplumber, argilla, unstructured, layoutparser, effdet, unstructured-inference\n",
      "Successfully installed Wand-0.6.11 XlsxWriter-3.1.0 antlr4-python3-runtime-4.9.3 argilla-1.6.0 backoff-2.2.1 commonmark-0.9.1 cryptography-40.0.2 deprecated-1.2.13 effdet-0.3.0 et-xmlfile-1.1.0 iopath-0.1.10 joblib-1.2.0 layoutparser-0.3.4 markdown-3.4.3 monotonic-1.6 msg-parser-1.2.0 networkx-3.1 nltk-3.8.1 olefile-0.46 omegaconf-2.3.0 opencv-python-4.6.0.66 openpyxl-3.1.2 pdf2image-1.16.3 pdfminer.six-20221105 pdfplumber-0.9.0 portalocker-2.7.0 pycocotools-2.0.6 pypandoc-1.11 pytesseract-0.3.10 python-docx-0.8.11 python-magic-0.4.27 python-pptx-0.6.21 rich-13.0.1 scipy-1.10.1 timm-0.6.13 torch-2.0.0 torchvision-0.15.1 unstructured-0.5.9 unstructured-inference-0.2.4 wrapt-1.14.1\n",
      "Note: you may need to restart the kernel to use updated packages.\n"
     ]
    },
    {
     "name": "stderr",
     "output_type": "stream",
     "text": [
      "\n",
      "[notice] A new release of pip is available: 23.1.1 -> 23.1.2\n",
      "[notice] To update, run: python.exe -m pip install --upgrade pip\n"
     ]
    }
   ],
   "source": [
    "pip install unstructured[local-inference]\n"
   ]
  },
  {
   "cell_type": "code",
   "execution_count": 3,
   "id": "52ec8d15",
   "metadata": {
    "vscode": {
     "languageId": "bat"
    }
   },
   "outputs": [
    {
     "name": "stdout",
     "output_type": "stream",
     "text": [
      "Collecting poppler-utils\n",
      "  Downloading poppler_utils-0.1.0-py3-none-any.whl (9.2 kB)\n",
      "Requirement already satisfied: Click>=7.0 in c:\\users\\bigyo\\appdata\\local\\programs\\python\\python311\\lib\\site-packages (from poppler-utils) (8.1.3)\n",
      "Requirement already satisfied: colorama in c:\\users\\bigyo\\appdata\\roaming\\python\\python311\\site-packages (from Click>=7.0->poppler-utils) (0.4.6)\n",
      "Installing collected packages: poppler-utils\n",
      "Successfully installed poppler-utils-0.1.0\n",
      "Note: you may need to restart the kernel to use updated packages.\n"
     ]
    },
    {
     "name": "stderr",
     "output_type": "stream",
     "text": [
      "\n",
      "[notice] A new release of pip is available: 23.1.1 -> 23.1.2\n",
      "[notice] To update, run: python.exe -m pip install --upgrade pip\n"
     ]
    }
   ],
   "source": [
    "pip install poppler-utils"
   ]
  },
  {
   "cell_type": "code",
   "execution_count": 4,
   "id": "9f6f6604",
   "metadata": {
    "vscode": {
     "languageId": "bat"
    }
   },
   "outputs": [
    {
     "name": "stdout",
     "output_type": "stream",
     "text": [
      "Collecting git+https://github.com/facebookresearch/detectron2.git\n",
      "  Cloning https://github.com/facebookresearch/detectron2.git to c:\\users\\bigyo\\appdata\\local\\temp\\pip-req-build-8ilbdw3t\n",
      "  Resolved https://github.com/facebookresearch/detectron2.git to commit c39b2d04891495aeb054c7f932ec906211979586\n",
      "  Preparing metadata (setup.py): started\n",
      "  Preparing metadata (setup.py): finished with status 'done'\n",
      "Requirement already satisfied: Pillow>=7.1 in c:\\users\\bigyo\\appdata\\local\\programs\\python\\python311\\lib\\site-packages (from detectron2==0.6) (9.3.0)\n",
      "Requirement already satisfied: matplotlib in c:\\users\\bigyo\\appdata\\local\\programs\\python\\python311\\lib\\site-packages (from detectron2==0.6) (3.6.2)\n",
      "Requirement already satisfied: pycocotools>=2.0.2 in c:\\users\\bigyo\\appdata\\local\\programs\\python\\python311\\lib\\site-packages (from detectron2==0.6) (2.0.6)\n",
      "Collecting termcolor>=1.1 (from detectron2==0.6)\n",
      "  Downloading termcolor-2.3.0-py3-none-any.whl (6.9 kB)\n",
      "Collecting yacs>=0.1.8 (from detectron2==0.6)\n",
      "  Using cached yacs-0.1.8-py3-none-any.whl (14 kB)\n",
      "Requirement already satisfied: tabulate in c:\\users\\bigyo\\appdata\\local\\programs\\python\\python311\\lib\\site-packages (from detectron2==0.6) (0.9.0)\n",
      "Collecting cloudpickle (from detectron2==0.6)\n",
      "  Downloading cloudpickle-2.2.1-py3-none-any.whl (25 kB)\n",
      "Requirement already satisfied: tqdm>4.29.0 in c:\\users\\bigyo\\appdata\\local\\programs\\python\\python311\\lib\\site-packages (from detectron2==0.6) (4.64.1)\n",
      "Collecting tensorboard (from detectron2==0.6)\n",
      "  Downloading tensorboard-2.12.3-py3-none-any.whl (5.6 MB)\n",
      "     ---------------------------------------- 5.6/5.6 MB 20.0 MB/s eta 0:00:00\n",
      "Collecting fvcore<0.1.6,>=0.1.5 (from detectron2==0.6)\n",
      "  Using cached fvcore-0.1.5.post20221221.tar.gz (50 kB)\n",
      "  Preparing metadata (setup.py): started\n",
      "  Preparing metadata (setup.py): finished with status 'done'\n",
      "Collecting iopath<0.1.10,>=0.1.7 (from detectron2==0.6)\n",
      "  Using cached iopath-0.1.9-py3-none-any.whl (27 kB)\n",
      "Requirement already satisfied: omegaconf>=2.1 in c:\\users\\bigyo\\appdata\\local\\programs\\python\\python311\\lib\\site-packages (from detectron2==0.6) (2.3.0)\n",
      "Collecting hydra-core>=1.1 (from detectron2==0.6)\n",
      "  Downloading hydra_core-1.3.2-py3-none-any.whl (154 kB)\n",
      "     -------------------------------------- 154.5/154.5 kB 9.6 MB/s eta 0:00:00\n",
      "Collecting black (from detectron2==0.6)\n",
      "  Downloading black-23.3.0-cp311-cp311-win_amd64.whl (1.3 MB)\n",
      "     ---------------------------------------- 1.3/1.3 MB 20.4 MB/s eta 0:00:00\n",
      "Requirement already satisfied: packaging in c:\\users\\bigyo\\appdata\\roaming\\python\\python311\\site-packages (from detectron2==0.6) (21.3)\n",
      "Requirement already satisfied: numpy in c:\\users\\bigyo\\appdata\\local\\programs\\python\\python311\\lib\\site-packages (from fvcore<0.1.6,>=0.1.5->detectron2==0.6) (1.23.4)\n",
      "Requirement already satisfied: pyyaml>=5.1 in c:\\users\\bigyo\\appdata\\local\\programs\\python\\python311\\lib\\site-packages (from fvcore<0.1.6,>=0.1.5->detectron2==0.6) (6.0)\n",
      "Requirement already satisfied: antlr4-python3-runtime==4.9.* in c:\\users\\bigyo\\appdata\\local\\programs\\python\\python311\\lib\\site-packages (from hydra-core>=1.1->detectron2==0.6) (4.9.3)\n",
      "Requirement already satisfied: portalocker in c:\\users\\bigyo\\appdata\\local\\programs\\python\\python311\\lib\\site-packages (from iopath<0.1.10,>=0.1.7->detectron2==0.6) (2.7.0)\n",
      "Requirement already satisfied: contourpy>=1.0.1 in c:\\users\\bigyo\\appdata\\local\\programs\\python\\python311\\lib\\site-packages (from matplotlib->detectron2==0.6) (1.0.6)\n",
      "Requirement already satisfied: cycler>=0.10 in c:\\users\\bigyo\\appdata\\local\\programs\\python\\python311\\lib\\site-packages (from matplotlib->detectron2==0.6) (0.11.0)\n",
      "Requirement already satisfied: fonttools>=4.22.0 in c:\\users\\bigyo\\appdata\\local\\programs\\python\\python311\\lib\\site-packages (from matplotlib->detectron2==0.6) (4.38.0)\n",
      "Requirement already satisfied: kiwisolver>=1.0.1 in c:\\users\\bigyo\\appdata\\local\\programs\\python\\python311\\lib\\site-packages (from matplotlib->detectron2==0.6) (1.4.4)\n",
      "Requirement already satisfied: pyparsing>=2.2.1 in c:\\users\\bigyo\\appdata\\roaming\\python\\python311\\site-packages (from matplotlib->detectron2==0.6) (3.0.9)\n",
      "Requirement already satisfied: python-dateutil>=2.7 in c:\\users\\bigyo\\appdata\\roaming\\python\\python311\\site-packages (from matplotlib->detectron2==0.6) (2.8.2)\n",
      "Requirement already satisfied: colorama in c:\\users\\bigyo\\appdata\\roaming\\python\\python311\\site-packages (from tqdm>4.29.0->detectron2==0.6) (0.4.6)\n",
      "Requirement already satisfied: click>=8.0.0 in c:\\users\\bigyo\\appdata\\local\\programs\\python\\python311\\lib\\site-packages (from black->detectron2==0.6) (8.1.3)\n",
      "Requirement already satisfied: mypy-extensions>=0.4.3 in c:\\users\\bigyo\\appdata\\local\\programs\\python\\python311\\lib\\site-packages (from black->detectron2==0.6) (1.0.0)\n",
      "Collecting packaging (from detectron2==0.6)\n",
      "  Using cached packaging-23.1-py3-none-any.whl (48 kB)\n",
      "Collecting pathspec>=0.9.0 (from black->detectron2==0.6)\n",
      "  Using cached pathspec-0.11.1-py3-none-any.whl (29 kB)\n",
      "Requirement already satisfied: platformdirs>=2 in c:\\users\\bigyo\\appdata\\roaming\\python\\python311\\site-packages (from black->detectron2==0.6) (2.5.4)\n",
      "Collecting absl-py>=0.4 (from tensorboard->detectron2==0.6)\n",
      "  Using cached absl_py-1.4.0-py3-none-any.whl (126 kB)\n",
      "Collecting grpcio>=1.48.2 (from tensorboard->detectron2==0.6)\n",
      "  Downloading grpcio-1.54.0-cp311-cp311-win_amd64.whl (4.1 MB)\n",
      "     ---------------------------------------- 4.1/4.1 MB 21.8 MB/s eta 0:00:00\n",
      "Collecting google-auth<3,>=1.6.3 (from tensorboard->detectron2==0.6)\n",
      "  Using cached google_auth-2.17.3-py2.py3-none-any.whl (178 kB)\n",
      "Collecting google-auth-oauthlib<1.1,>=0.5 (from tensorboard->detectron2==0.6)\n",
      "  Downloading google_auth_oauthlib-1.0.0-py2.py3-none-any.whl (18 kB)\n",
      "Requirement already satisfied: markdown>=2.6.8 in c:\\users\\bigyo\\appdata\\local\\programs\\python\\python311\\lib\\site-packages (from tensorboard->detectron2==0.6) (3.4.3)\n",
      "Requirement already satisfied: protobuf>=3.19.6 in c:\\users\\bigyo\\appdata\\local\\programs\\python\\python311\\lib\\site-packages (from tensorboard->detectron2==0.6) (3.20.3)\n",
      "Requirement already satisfied: requests<3,>=2.21.0 in c:\\users\\bigyo\\appdata\\local\\programs\\python\\python311\\lib\\site-packages (from tensorboard->detectron2==0.6) (2.28.2)\n",
      "Requirement already satisfied: setuptools>=41.0.0 in c:\\users\\bigyo\\appdata\\local\\programs\\python\\python311\\lib\\site-packages (from tensorboard->detectron2==0.6) (65.5.0)\n",
      "Collecting tensorboard-data-server<0.8.0,>=0.7.0 (from tensorboard->detectron2==0.6)\n",
      "  Using cached tensorboard_data_server-0.7.0-py3-none-any.whl (2.4 kB)\n",
      "Requirement already satisfied: werkzeug>=1.0.1 in c:\\users\\bigyo\\appdata\\local\\programs\\python\\python311\\lib\\site-packages (from tensorboard->detectron2==0.6) (2.2.2)\n",
      "Requirement already satisfied: wheel>=0.26 in c:\\users\\bigyo\\appdata\\local\\programs\\python\\python311\\lib\\site-packages (from tensorboard->detectron2==0.6) (0.40.0)\n",
      "Requirement already satisfied: cachetools<6.0,>=2.0.0 in c:\\users\\bigyo\\appdata\\local\\programs\\python\\python311\\lib\\site-packages (from google-auth<3,>=1.6.3->tensorboard->detectron2==0.6) (5.2.1)\n",
      "Collecting pyasn1-modules>=0.2.1 (from google-auth<3,>=1.6.3->tensorboard->detectron2==0.6)\n",
      "  Using cached pyasn1_modules-0.3.0-py2.py3-none-any.whl (181 kB)\n",
      "Requirement already satisfied: six>=1.9.0 in c:\\users\\bigyo\\appdata\\roaming\\python\\python311\\site-packages (from google-auth<3,>=1.6.3->tensorboard->detectron2==0.6) (1.16.0)\n",
      "Collecting rsa<5,>=3.1.4 (from google-auth<3,>=1.6.3->tensorboard->detectron2==0.6)\n",
      "  Using cached rsa-4.9-py3-none-any.whl (34 kB)\n",
      "Collecting requests-oauthlib>=0.7.0 (from google-auth-oauthlib<1.1,>=0.5->tensorboard->detectron2==0.6)\n",
      "  Using cached requests_oauthlib-1.3.1-py2.py3-none-any.whl (23 kB)\n",
      "Requirement already satisfied: charset-normalizer<4,>=2 in c:\\users\\bigyo\\appdata\\local\\programs\\python\\python311\\lib\\site-packages (from requests<3,>=2.21.0->tensorboard->detectron2==0.6) (2.1.1)\n",
      "Requirement already satisfied: idna<4,>=2.5 in c:\\users\\bigyo\\appdata\\roaming\\python\\python311\\site-packages (from requests<3,>=2.21.0->tensorboard->detectron2==0.6) (3.4)\n",
      "Requirement already satisfied: urllib3<1.27,>=1.21.1 in c:\\users\\bigyo\\appdata\\local\\programs\\python\\python311\\lib\\site-packages (from requests<3,>=2.21.0->tensorboard->detectron2==0.6) (1.26.14)\n",
      "Requirement already satisfied: certifi>=2017.4.17 in c:\\users\\bigyo\\appdata\\local\\programs\\python\\python311\\lib\\site-packages (from requests<3,>=2.21.0->tensorboard->detectron2==0.6) (2022.12.7)\n",
      "Requirement already satisfied: MarkupSafe>=2.1.1 in c:\\users\\bigyo\\appdata\\roaming\\python\\python311\\site-packages (from werkzeug>=1.0.1->tensorboard->detectron2==0.6) (2.1.1)\n",
      "Requirement already satisfied: pywin32>=226 in c:\\users\\bigyo\\appdata\\roaming\\python\\python311\\site-packages (from portalocker->iopath<0.1.10,>=0.1.7->detectron2==0.6) (305)\n",
      "Collecting pyasn1<0.6.0,>=0.4.6 (from pyasn1-modules>=0.2.1->google-auth<3,>=1.6.3->tensorboard->detectron2==0.6)\n",
      "  Using cached pyasn1-0.5.0-py2.py3-none-any.whl (83 kB)\n",
      "Collecting oauthlib>=3.0.0 (from requests-oauthlib>=0.7.0->google-auth-oauthlib<1.1,>=0.5->tensorboard->detectron2==0.6)\n",
      "  Using cached oauthlib-3.2.2-py3-none-any.whl (151 kB)\n",
      "Building wheels for collected packages: detectron2, fvcore\n",
      "  Building wheel for detectron2 (setup.py): started\n",
      "  Building wheel for detectron2 (setup.py): finished with status 'done'\n",
      "  Created wheel for detectron2: filename=detectron2-0.6-cp311-cp311-win_amd64.whl size=886700 sha256=ea80fff245266978c65b6f0e791d918a903f30e65570cb7528f34a3ae09fa007\n",
      "  Stored in directory: C:\\Users\\Bigyo\\AppData\\Local\\Temp\\pip-ephem-wheel-cache-m1cmdhvi\\wheels\\17\\d9\\40\\60db98e485aa9455d653e29d1046601ce96fe23647f60c1c5a\n",
      "  Building wheel for fvcore (setup.py): started\n",
      "  Building wheel for fvcore (setup.py): finished with status 'done'\n",
      "  Created wheel for fvcore: filename=fvcore-0.1.5.post20221221-py3-none-any.whl size=61418 sha256=fce939db27814dec6e1d010217ac510b503dfdbf102b6917a052041a92331328\n",
      "  Stored in directory: c:\\users\\bigyo\\appdata\\local\\pip\\cache\\wheels\\65\\71\\95\\3b8fde5c65c6e4a806e0867c1651dcc71a1cb2f3430e8f355f\n",
      "Successfully built detectron2 fvcore\n",
      "Installing collected packages: yacs, termcolor, tensorboard-data-server, pyasn1, pathspec, packaging, oauthlib, grpcio, cloudpickle, absl-py, rsa, requests-oauthlib, pyasn1-modules, iopath, hydra-core, black, google-auth, fvcore, google-auth-oauthlib, tensorboard, detectron2\n",
      "  Attempting uninstall: packaging\n",
      "    Found existing installation: packaging 21.3\n",
      "    Uninstalling packaging-21.3:\n",
      "      Successfully uninstalled packaging-21.3\n",
      "  Attempting uninstall: iopath\n",
      "    Found existing installation: iopath 0.1.10\n",
      "    Uninstalling iopath-0.1.10:\n",
      "      Successfully uninstalled iopath-0.1.10\n",
      "Successfully installed absl-py-1.4.0 black-23.3.0 cloudpickle-2.2.1 detectron2-0.6 fvcore-0.1.5.post20221221 google-auth-2.17.3 google-auth-oauthlib-1.0.0 grpcio-1.54.0 hydra-core-1.3.2 iopath-0.1.9 oauthlib-3.2.2 packaging-23.1 pathspec-0.11.1 pyasn1-0.5.0 pyasn1-modules-0.3.0 requests-oauthlib-1.3.1 rsa-4.9 tensorboard-2.12.3 tensorboard-data-server-0.7.0 termcolor-2.3.0 yacs-0.1.8\n",
      "Note: you may need to restart the kernel to use updated packages.\n"
     ]
    },
    {
     "name": "stderr",
     "output_type": "stream",
     "text": [
      "  Running command git clone --filter=blob:none --quiet https://github.com/facebookresearch/detectron2.git 'C:\\Users\\Bigyo\\AppData\\Local\\Temp\\pip-req-build-8ilbdw3t'\n",
      "\n",
      "[notice] A new release of pip is available: 23.1.1 -> 23.1.2\n",
      "[notice] To update, run: python.exe -m pip install --upgrade pip\n"
     ]
    }
   ],
   "source": [
    "pip install git+https://github.com/facebookresearch/detectron2.git"
   ]
  },
  {
   "cell_type": "code",
   "execution_count": null,
   "id": "7c109bff",
   "metadata": {
    "vscode": {
     "languageId": "bat"
    }
   },
   "outputs": [],
   "source": [
    "Put poppler in path: C:\\Program Files\\Poppler\\Library\\bin"
   ]
  },
  {
   "cell_type": "code",
   "execution_count": 5,
   "id": "93f80bb9",
   "metadata": {
    "vscode": {
     "languageId": "bat"
    }
   },
   "outputs": [
    {
     "name": "stdout",
     "output_type": "stream",
     "text": [
      "Collecting pinecone-client[grpc]Note: you may need to restart the kernel to use updated packages.\n"
     ]
    },
    {
     "name": "stderr",
     "output_type": "stream",
     "text": [
      "ERROR: pip's dependency resolver does not currently take into account all the packages that are installed. This behaviour is the source of the following dependency conflicts.\n",
      "tensorboard 2.12.3 requires protobuf>=3.19.6, but you have protobuf 3.19.3 which is incompatible.\n",
      "\n",
      "[notice] A new release of pip is available: 23.1.1 -> 23.1.2\n",
      "[notice] To update, run: python.exe -m pip install --upgrade pip\n"
     ]
    },
    {
     "name": "stdout",
     "output_type": "stream",
     "text": [
      "\n",
      "  Using cached pinecone_client-2.2.1-py3-none-any.whl (177 kB)\n",
      "Collecting chromadb\n",
      "  Downloading chromadb-0.3.21-py3-none-any.whl (46 kB)\n",
      "     ---------------------------------------- 46.4/46.4 kB 2.3 MB/s eta 0:00:00\n",
      "Requirement already satisfied: openai in c:\\users\\bigyo\\appdata\\local\\programs\\python\\python311\\lib\\site-packages (0.27.4)\n",
      "Requirement already satisfied: langchain in c:\\users\\bigyo\\appdata\\local\\programs\\python\\python311\\lib\\site-packages (0.0.147)\n",
      "Collecting tiktoken\n",
      "  Downloading tiktoken-0.3.3-cp311-cp311-win_amd64.whl (579 kB)\n",
      "     ------------------------------------- 579.4/579.4 kB 12.1 MB/s eta 0:00:00\n",
      "Requirement already satisfied: python-dotenv in c:\\users\\bigyo\\appdata\\local\\programs\\python\\python311\\lib\\site-packages (0.21.1)\n",
      "Requirement already satisfied: requests>=2.19.0 in c:\\users\\bigyo\\appdata\\local\\programs\\python\\python311\\lib\\site-packages (from pinecone-client[grpc]) (2.28.2)\n",
      "Requirement already satisfied: pyyaml>=5.4 in c:\\users\\bigyo\\appdata\\local\\programs\\python\\python311\\lib\\site-packages (from pinecone-client[grpc]) (6.0)\n",
      "Collecting loguru>=0.5.0 (from pinecone-client[grpc])\n",
      "  Using cached loguru-0.7.0-py3-none-any.whl (59 kB)\n",
      "Requirement already satisfied: typing-extensions>=3.7.4 in c:\\users\\bigyo\\appdata\\local\\programs\\python\\python311\\lib\\site-packages (from pinecone-client[grpc]) (4.4.0)\n",
      "Collecting dnspython>=2.0.0 (from pinecone-client[grpc])\n",
      "  Using cached dnspython-2.3.0-py3-none-any.whl (283 kB)\n",
      "Requirement already satisfied: python-dateutil>=2.5.3 in c:\\users\\bigyo\\appdata\\roaming\\python\\python311\\site-packages (from pinecone-client[grpc]) (2.8.2)\n",
      "Requirement already satisfied: urllib3>=1.21.1 in c:\\users\\bigyo\\appdata\\local\\programs\\python\\python311\\lib\\site-packages (from pinecone-client[grpc]) (1.26.14)\n",
      "Requirement already satisfied: tqdm>=4.64.1 in c:\\users\\bigyo\\appdata\\local\\programs\\python\\python311\\lib\\site-packages (from pinecone-client[grpc]) (4.64.1)\n",
      "Requirement already satisfied: numpy in c:\\users\\bigyo\\appdata\\local\\programs\\python\\python311\\lib\\site-packages (from pinecone-client[grpc]) (1.23.4)\n",
      "Requirement already satisfied: grpcio>=1.44.0 in c:\\users\\bigyo\\appdata\\local\\programs\\python\\python311\\lib\\site-packages (from pinecone-client[grpc]) (1.54.0)\n",
      "Collecting grpc-gateway-protoc-gen-openapiv2==0.1.0 (from pinecone-client[grpc])\n",
      "  Downloading grpc_gateway_protoc_gen_openapiv2-0.1.0-py3-none-any.whl (12 kB)\n",
      "Collecting googleapis-common-protos>=1.53.0 (from pinecone-client[grpc])\n",
      "  Using cached googleapis_common_protos-1.59.0-py2.py3-none-any.whl (223 kB)\n",
      "Collecting lz4>=3.1.3 (from pinecone-client[grpc])\n",
      "  Downloading lz4-4.3.2-cp311-cp311-win_amd64.whl (99 kB)\n",
      "     ---------------------------------------- 99.8/99.8 kB ? eta 0:00:00\n",
      "Collecting protobuf==3.19.3 (from pinecone-client[grpc])\n",
      "  Downloading protobuf-3.19.3-py2.py3-none-any.whl (162 kB)\n",
      "     -------------------------------------- 162.7/162.7 kB 9.5 MB/s eta 0:00:00\n",
      "Requirement already satisfied: pandas>=1.3 in c:\\users\\bigyo\\appdata\\local\\programs\\python\\python311\\lib\\site-packages (from chromadb) (1.5.3)\n",
      "Requirement already satisfied: pydantic>=1.9 in c:\\users\\bigyo\\appdata\\local\\programs\\python\\python311\\lib\\site-packages (from chromadb) (1.10.4)\n",
      "Collecting hnswlib>=0.7 (from chromadb)\n",
      "  Downloading hnswlib-0.7.0.tar.gz (33 kB)\n",
      "  Installing build dependencies: started\n",
      "  Installing build dependencies: finished with status 'done'\n",
      "  Getting requirements to build wheel: started\n",
      "  Getting requirements to build wheel: finished with status 'done'\n",
      "  Preparing metadata (pyproject.toml): started\n",
      "  Preparing metadata (pyproject.toml): finished with status 'done'\n",
      "Collecting clickhouse-connect>=0.5.7 (from chromadb)\n",
      "  Downloading clickhouse_connect-0.5.23-cp311-cp311-win_amd64.whl (223 kB)\n",
      "     ---------------------------------------- 223.4/223.4 kB ? eta 0:00:00\n",
      "Collecting sentence-transformers>=2.2.2 (from chromadb)\n",
      "  Downloading sentence-transformers-2.2.2.tar.gz (85 kB)\n",
      "     ---------------------------------------- 86.0/86.0 kB 4.7 MB/s eta 0:00:00\n",
      "  Preparing metadata (setup.py): started\n",
      "  Preparing metadata (setup.py): finished with status 'done'\n",
      "Collecting duckdb>=0.7.1 (from chromadb)\n",
      "  Downloading duckdb-0.7.1-cp311-cp311-win_amd64.whl (9.5 MB)\n",
      "     ---------------------------------------- 9.5/9.5 MB 10.1 MB/s eta 0:00:00\n",
      "Requirement already satisfied: fastapi>=0.85.1 in c:\\users\\bigyo\\appdata\\local\\programs\\python\\python311\\lib\\site-packages (from chromadb) (0.89.1)\n",
      "Requirement already satisfied: uvicorn[standard]>=0.18.3 in c:\\users\\bigyo\\appdata\\local\\programs\\python\\python311\\lib\\site-packages (from chromadb) (0.20.0)\n",
      "Collecting posthog>=2.4.0 (from chromadb)\n",
      "  Downloading posthog-3.0.1-py2.py3-none-any.whl (37 kB)\n",
      "Requirement already satisfied: aiohttp in c:\\users\\bigyo\\appdata\\local\\programs\\python\\python311\\lib\\site-packages (from openai) (3.8.3)\n",
      "Requirement already satisfied: SQLAlchemy<2,>=1 in c:\\users\\bigyo\\appdata\\local\\programs\\python\\python311\\lib\\site-packages (from langchain) (1.4.46)\n",
      "Requirement already satisfied: dataclasses-json<0.6.0,>=0.5.7 in c:\\users\\bigyo\\appdata\\local\\programs\\python\\python311\\lib\\site-packages (from langchain) (0.5.7)\n",
      "Requirement already satisfied: numexpr<3.0.0,>=2.8.4 in c:\\users\\bigyo\\appdata\\local\\programs\\python\\python311\\lib\\site-packages (from langchain) (2.8.4)\n",
      "Requirement already satisfied: openapi-schema-pydantic<2.0,>=1.2 in c:\\users\\bigyo\\appdata\\local\\programs\\python\\python311\\lib\\site-packages (from langchain) (1.2.4)\n",
      "Requirement already satisfied: tenacity<9.0.0,>=8.1.0 in c:\\users\\bigyo\\appdata\\local\\programs\\python\\python311\\lib\\site-packages (from langchain) (8.2.2)\n",
      "Requirement already satisfied: regex>=2022.1.18 in c:\\users\\bigyo\\appdata\\local\\programs\\python\\python311\\lib\\site-packages (from tiktoken) (2022.10.31)\n",
      "Requirement already satisfied: attrs>=17.3.0 in c:\\users\\bigyo\\appdata\\roaming\\python\\python311\\site-packages (from aiohttp->openai) (22.1.0)\n",
      "Requirement already satisfied: charset-normalizer<3.0,>=2.0 in c:\\users\\bigyo\\appdata\\local\\programs\\python\\python311\\lib\\site-packages (from aiohttp->openai) (2.1.1)\n",
      "Requirement already satisfied: multidict<7.0,>=4.5 in c:\\users\\bigyo\\appdata\\local\\programs\\python\\python311\\lib\\site-packages (from aiohttp->openai) (6.0.4)\n",
      "Requirement already satisfied: async-timeout<5.0,>=4.0.0a3 in c:\\users\\bigyo\\appdata\\local\\programs\\python\\python311\\lib\\site-packages (from aiohttp->openai) (4.0.2)\n",
      "Requirement already satisfied: yarl<2.0,>=1.0 in c:\\users\\bigyo\\appdata\\local\\programs\\python\\python311\\lib\\site-packages (from aiohttp->openai) (1.8.2)\n",
      "Requirement already satisfied: frozenlist>=1.1.1 in c:\\users\\bigyo\\appdata\\local\\programs\\python\\python311\\lib\\site-packages (from aiohttp->openai) (1.3.3)\n",
      "Requirement already satisfied: aiosignal>=1.1.2 in c:\\users\\bigyo\\appdata\\local\\programs\\python\\python311\\lib\\site-packages (from aiohttp->openai) (1.3.1)\n",
      "Requirement already satisfied: certifi in c:\\users\\bigyo\\appdata\\local\\programs\\python\\python311\\lib\\site-packages (from clickhouse-connect>=0.5.7->chromadb) (2022.12.7)\n",
      "Requirement already satisfied: pytz in c:\\users\\bigyo\\appdata\\local\\programs\\python\\python311\\lib\\site-packages (from clickhouse-connect>=0.5.7->chromadb) (2022.7.1)\n",
      "Collecting zstandard (from clickhouse-connect>=0.5.7->chromadb)\n",
      "  Downloading zstandard-0.21.0-cp311-cp311-win_amd64.whl (511 kB)\n",
      "     ------------------------------------- 511.3/511.3 kB 16.2 MB/s eta 0:00:00\n",
      "Requirement already satisfied: marshmallow<4.0.0,>=3.3.0 in c:\\users\\bigyo\\appdata\\local\\programs\\python\\python311\\lib\\site-packages (from dataclasses-json<0.6.0,>=0.5.7->langchain) (3.19.0)\n",
      "Requirement already satisfied: marshmallow-enum<2.0.0,>=1.5.1 in c:\\users\\bigyo\\appdata\\local\\programs\\python\\python311\\lib\\site-packages (from dataclasses-json<0.6.0,>=0.5.7->langchain) (1.5.1)\n",
      "Requirement already satisfied: typing-inspect>=0.4.0 in c:\\users\\bigyo\\appdata\\local\\programs\\python\\python311\\lib\\site-packages (from dataclasses-json<0.6.0,>=0.5.7->langchain) (0.8.0)\n",
      "Requirement already satisfied: starlette==0.22.0 in c:\\users\\bigyo\\appdata\\local\\programs\\python\\python311\\lib\\site-packages (from fastapi>=0.85.1->chromadb) (0.22.0)\n",
      "Requirement already satisfied: anyio<5,>=3.4.0 in c:\\users\\bigyo\\appdata\\roaming\\python\\python311\\site-packages (from starlette==0.22.0->fastapi>=0.85.1->chromadb) (3.6.2)\n",
      "INFO: pip is looking at multiple versions of googleapis-common-protos to determine which version is compatible with other requirements. This could take a while.\n",
      "Collecting googleapis-common-protos>=1.53.0 (from pinecone-client[grpc])\n",
      "  Downloading googleapis_common_protos-1.58.0-py2.py3-none-any.whl (223 kB)\n",
      "     ------------------------------------- 223.0/223.0 kB 13.3 MB/s eta 0:00:00\n",
      "  Downloading googleapis_common_protos-1.57.1-py2.py3-none-any.whl (218 kB)\n",
      "     ------------------------------------- 218.0/218.0 kB 13.0 MB/s eta 0:00:00\n",
      "  Downloading googleapis_common_protos-1.57.0-py2.py3-none-any.whl (217 kB)\n",
      "     -------------------------------------- 218.0/218.0 kB 6.5 MB/s eta 0:00:00\n",
      "  Downloading googleapis_common_protos-1.56.4-py2.py3-none-any.whl (211 kB)\n",
      "     ------------------------------------- 211.7/211.7 kB 13.4 MB/s eta 0:00:00\n",
      "Requirement already satisfied: colorama>=0.3.4 in c:\\users\\bigyo\\appdata\\roaming\\python\\python311\\site-packages (from loguru>=0.5.0->pinecone-client[grpc]) (0.4.6)\n",
      "Collecting win32-setctime>=1.0.0 (from loguru>=0.5.0->pinecone-client[grpc])\n",
      "  Using cached win32_setctime-1.1.0-py3-none-any.whl (3.6 kB)\n",
      "Requirement already satisfied: six>=1.5 in c:\\users\\bigyo\\appdata\\roaming\\python\\python311\\site-packages (from posthog>=2.4.0->chromadb) (1.16.0)\n",
      "Requirement already satisfied: monotonic>=1.5 in c:\\users\\bigyo\\appdata\\local\\programs\\python\\python311\\lib\\site-packages (from posthog>=2.4.0->chromadb) (1.6)\n",
      "Requirement already satisfied: backoff>=1.10.0 in c:\\users\\bigyo\\appdata\\local\\programs\\python\\python311\\lib\\site-packages (from posthog>=2.4.0->chromadb) (2.2.1)\n",
      "Requirement already satisfied: idna<4,>=2.5 in c:\\users\\bigyo\\appdata\\roaming\\python\\python311\\site-packages (from requests>=2.19.0->pinecone-client[grpc]) (3.4)\n",
      "Requirement already satisfied: transformers<5.0.0,>=4.6.0 in c:\\users\\bigyo\\appdata\\local\\programs\\python\\python311\\lib\\site-packages (from sentence-transformers>=2.2.2->chromadb) (4.25.1)\n",
      "Requirement already satisfied: torch>=1.6.0 in c:\\users\\bigyo\\appdata\\local\\programs\\python\\python311\\lib\\site-packages (from sentence-transformers>=2.2.2->chromadb) (2.0.0)\n",
      "Requirement already satisfied: torchvision in c:\\users\\bigyo\\appdata\\local\\programs\\python\\python311\\lib\\site-packages (from sentence-transformers>=2.2.2->chromadb) (0.15.1)\n",
      "Collecting scikit-learn (from sentence-transformers>=2.2.2->chromadb)\n",
      "  Downloading scikit_learn-1.2.2-cp311-cp311-win_amd64.whl (8.3 MB)\n",
      "     ---------------------------------------- 8.3/8.3 MB 12.0 MB/s eta 0:00:00\n",
      "Requirement already satisfied: scipy in c:\\users\\bigyo\\appdata\\local\\programs\\python\\python311\\lib\\site-packages (from sentence-transformers>=2.2.2->chromadb) (1.10.1)\n",
      "Requirement already satisfied: nltk in c:\\users\\bigyo\\appdata\\local\\programs\\python\\python311\\lib\\site-packages (from sentence-transformers>=2.2.2->chromadb) (3.8.1)\n",
      "Collecting sentencepiece (from sentence-transformers>=2.2.2->chromadb)\n",
      "  Downloading sentencepiece-0.1.99-cp311-cp311-win_amd64.whl (977 kB)\n",
      "     ------------------------------------- 977.5/977.5 kB 15.6 MB/s eta 0:00:00\n",
      "Requirement already satisfied: huggingface-hub>=0.4.0 in c:\\users\\bigyo\\appdata\\local\\programs\\python\\python311\\lib\\site-packages (from sentence-transformers>=2.2.2->chromadb) (0.11.1)\n",
      "Requirement already satisfied: greenlet!=0.4.17 in c:\\users\\bigyo\\appdata\\local\\programs\\python\\python311\\lib\\site-packages (from SQLAlchemy<2,>=1->langchain) (2.0.1)\n",
      "Requirement already satisfied: click>=7.0 in c:\\users\\bigyo\\appdata\\local\\programs\\python\\python311\\lib\\site-packages (from uvicorn[standard]>=0.18.3->chromadb) (8.1.3)\n",
      "Requirement already satisfied: h11>=0.8 in c:\\users\\bigyo\\appdata\\local\\programs\\python\\python311\\lib\\site-packages (from uvicorn[standard]>=0.18.3->chromadb) (0.14.0)\n",
      "Collecting httptools>=0.5.0 (from uvicorn[standard]>=0.18.3->chromadb)\n",
      "  Downloading httptools-0.5.0-cp311-cp311-win_amd64.whl (140 kB)\n",
      "     -------------------------------------- 140.2/140.2 kB 8.7 MB/s eta 0:00:00\n",
      "Collecting watchfiles>=0.13 (from uvicorn[standard]>=0.18.3->chromadb)\n",
      "  Downloading watchfiles-0.19.0-cp37-abi3-win_amd64.whl (270 kB)\n",
      "     -------------------------------------- 270.9/270.9 kB 8.4 MB/s eta 0:00:00\n",
      "Requirement already satisfied: websockets>=10.4 in c:\\users\\bigyo\\appdata\\local\\programs\\python\\python311\\lib\\site-packages (from uvicorn[standard]>=0.18.3->chromadb) (10.4)\n",
      "Requirement already satisfied: filelock in c:\\users\\bigyo\\appdata\\local\\programs\\python\\python311\\lib\\site-packages (from huggingface-hub>=0.4.0->sentence-transformers>=2.2.2->chromadb) (3.9.0)\n",
      "Requirement already satisfied: packaging>=20.9 in c:\\users\\bigyo\\appdata\\local\\programs\\python\\python311\\lib\\site-packages (from huggingface-hub>=0.4.0->sentence-transformers>=2.2.2->chromadb) (23.1)\n",
      "Requirement already satisfied: sympy in c:\\users\\bigyo\\appdata\\local\\programs\\python\\python311\\lib\\site-packages (from torch>=1.6.0->sentence-transformers>=2.2.2->chromadb) (1.11.1)\n",
      "Requirement already satisfied: networkx in c:\\users\\bigyo\\appdata\\local\\programs\\python\\python311\\lib\\site-packages (from torch>=1.6.0->sentence-transformers>=2.2.2->chromadb) (3.1)\n",
      "Requirement already satisfied: jinja2 in c:\\users\\bigyo\\appdata\\roaming\\python\\python311\\site-packages (from torch>=1.6.0->sentence-transformers>=2.2.2->chromadb) (3.1.2)\n",
      "Requirement already satisfied: tokenizers!=0.11.3,<0.14,>=0.11.1 in c:\\users\\bigyo\\appdata\\local\\programs\\python\\python311\\lib\\site-packages (from transformers<5.0.0,>=4.6.0->sentence-transformers>=2.2.2->chromadb) (0.13.2)\n",
      "Requirement already satisfied: mypy-extensions>=0.3.0 in c:\\users\\bigyo\\appdata\\local\\programs\\python\\python311\\lib\\site-packages (from typing-inspect>=0.4.0->dataclasses-json<0.6.0,>=0.5.7->langchain) (1.0.0)\n",
      "Requirement already satisfied: joblib in c:\\users\\bigyo\\appdata\\local\\programs\\python\\python311\\lib\\site-packages (from nltk->sentence-transformers>=2.2.2->chromadb) (1.2.0)\n",
      "Collecting threadpoolctl>=2.0.0 (from scikit-learn->sentence-transformers>=2.2.2->chromadb)\n",
      "  Using cached threadpoolctl-3.1.0-py3-none-any.whl (14 kB)\n",
      "Requirement already satisfied: pillow!=8.3.*,>=5.3.0 in c:\\users\\bigyo\\appdata\\local\\programs\\python\\python311\\lib\\site-packages (from torchvision->sentence-transformers>=2.2.2->chromadb) (9.3.0)\n",
      "Requirement already satisfied: sniffio>=1.1 in c:\\users\\bigyo\\appdata\\roaming\\python\\python311\\site-packages (from anyio<5,>=3.4.0->starlette==0.22.0->fastapi>=0.85.1->chromadb) (1.3.0)\n",
      "Requirement already satisfied: MarkupSafe>=2.0 in c:\\users\\bigyo\\appdata\\roaming\\python\\python311\\site-packages (from jinja2->torch>=1.6.0->sentence-transformers>=2.2.2->chromadb) (2.1.1)\n",
      "Requirement already satisfied: mpmath>=0.19 in c:\\users\\bigyo\\appdata\\local\\programs\\python\\python311\\lib\\site-packages (from sympy->torch>=1.6.0->sentence-transformers>=2.2.2->chromadb) (1.2.1)\n",
      "Building wheels for collected packages: hnswlib, sentence-transformers\n",
      "  Building wheel for hnswlib (pyproject.toml): started\n",
      "  Building wheel for hnswlib (pyproject.toml): finished with status 'done'\n",
      "  Created wheel for hnswlib: filename=hnswlib-0.7.0-cp311-cp311-win_amd64.whl size=140706 sha256=84bf62724bfb18977513dd80a41b87614f543cea0df18c2174d0fe11bc2cbde2\n",
      "  Stored in directory: c:\\users\\bigyo\\appdata\\local\\pip\\cache\\wheels\\fd\\ea\\08\\149cab5879745530dcf6e264a61e0cc54a4e2e291247bb99ab\n",
      "  Building wheel for sentence-transformers (setup.py): started\n",
      "  Building wheel for sentence-transformers (setup.py): finished with status 'done'\n",
      "  Created wheel for sentence-transformers: filename=sentence_transformers-2.2.2-py3-none-any.whl size=125961 sha256=f02f08e5d596642e66ffeb62b9fb4971e8853573d396f2f67bdb4c4f373f1185\n",
      "  Stored in directory: c:\\users\\bigyo\\appdata\\local\\pip\\cache\\wheels\\ff\\27\\bf\\ffba8b318b02d7f691a57084ee154e26ed24d012b0c7805881\n",
      "Successfully built hnswlib sentence-transformers\n",
      "Installing collected packages: sentencepiece, duckdb, zstandard, win32-setctime, threadpoolctl, protobuf, lz4, httptools, hnswlib, dnspython, watchfiles, tiktoken, scikit-learn, posthog, loguru, googleapis-common-protos, clickhouse-connect, pinecone-client, grpc-gateway-protoc-gen-openapiv2, sentence-transformers, chromadb\n",
      "  Attempting uninstall: protobuf\n",
      "    Found existing installation: protobuf 3.20.3\n",
      "    Uninstalling protobuf-3.20.3:\n",
      "      Successfully uninstalled protobuf-3.20.3\n",
      "Successfully installed chromadb-0.3.21 clickhouse-connect-0.5.23 dnspython-2.3.0 duckdb-0.7.1 googleapis-common-protos-1.56.4 grpc-gateway-protoc-gen-openapiv2-0.1.0 hnswlib-0.7.0 httptools-0.5.0 loguru-0.7.0 lz4-4.3.2 pinecone-client-2.2.1 posthog-3.0.1 protobuf-3.19.3 scikit-learn-1.2.2 sentence-transformers-2.2.2 sentencepiece-0.1.99 threadpoolctl-3.1.0 tiktoken-0.3.3 watchfiles-0.19.0 win32-setctime-1.1.0 zstandard-0.21.0\n"
     ]
    }
   ],
   "source": [
    "pip install pinecone-client[grpc] chromadb openai langchain tiktoken python-dotenv"
   ]
  },
  {
   "cell_type": "code",
   "execution_count": 4,
   "id": "2d3e92ed",
   "metadata": {},
   "outputs": [],
   "source": [
    "import pytesseract as pt\n",
    "\n",
    "pt.pytesseract.tesseract_cmd = \"C:\\\\Program Files\\\\Tesseract-OCR\\\\tesseract.exe\"\n",
    "\n",
    "from langchain.document_loaders import UnstructuredPDFLoader, OnlinePDFLoader\n"
   ]
  },
  {
   "cell_type": "markdown",
   "id": "5166d759",
   "metadata": {},
   "source": [
    "### Load your data\n"
   ]
  },
  {
   "cell_type": "code",
   "execution_count": 5,
   "id": "b4a2d6bf",
   "metadata": {},
   "outputs": [],
   "source": [
    "# loader = UnstructuredPDFLoader(\"../data/field-guide-to-data-science.pdf\")\n",
    "# loader = OnlinePDFLoader(\"https://wolfpaulus.com/wp-content/uploads/2017/05/field-guide-to-data-science.pdf\")\n"
   ]
  },
  {
   "cell_type": "code",
   "execution_count": 6,
   "id": "bcdac23c",
   "metadata": {},
   "outputs": [],
   "source": [
    "# data = loader.load()\n"
   ]
  },
  {
   "cell_type": "code",
   "execution_count": 1,
   "id": "8bcd333f",
   "metadata": {},
   "outputs": [],
   "source": [
    "import pickle\n",
    "\n",
    "# with open(\"../data/field-guide-to-data-science.pkl\", \"wb\") as f:\n",
    "#     pickle.dump(data, f)\n",
    "\n",
    "with open(\"../data/lecture_notes.pkl\", \"rb\") as f:\n",
    "    data = pickle.load(f)\n"
   ]
  },
  {
   "cell_type": "code",
   "execution_count": 2,
   "id": "b4fd7c9e",
   "metadata": {},
   "outputs": [
    {
     "name": "stdout",
     "output_type": "stream",
     "text": [
      "You have 1 document(s) in your data\n",
      "There are 481103 characters in your document\n"
     ]
    }
   ],
   "source": [
    "print(f\"You have {len(data)} document(s) in your data\")\n",
    "print(f\"There are {len(data[0].page_content)} characters in your document\")\n"
   ]
  },
  {
   "cell_type": "markdown",
   "id": "8af9b604",
   "metadata": {},
   "source": [
    "### Chunk your data up into smaller documents\n"
   ]
  },
  {
   "cell_type": "code",
   "execution_count": 3,
   "id": "fb3c6f02",
   "metadata": {},
   "outputs": [],
   "source": [
    "from langchain.text_splitter import RecursiveCharacterTextSplitter\n",
    "\n",
    "text_splitter = RecursiveCharacterTextSplitter(chunk_size=1000, chunk_overlap=0)\n",
    "texts = text_splitter.split_documents(data)\n"
   ]
  },
  {
   "cell_type": "code",
   "execution_count": 4,
   "id": "879873a4",
   "metadata": {},
   "outputs": [
    {
     "name": "stdout",
     "output_type": "stream",
     "text": [
      "Now you have 618 documents\n"
     ]
    }
   ],
   "source": [
    "print(f\"Now you have {len(texts)} documents\")\n"
   ]
  },
  {
   "cell_type": "markdown",
   "id": "838b2843",
   "metadata": {},
   "source": [
    "### Create embeddings of your documents to get ready for semantic search\n"
   ]
  },
  {
   "cell_type": "code",
   "execution_count": 5,
   "id": "373e695a",
   "metadata": {},
   "outputs": [],
   "source": [
    "from langchain.vectorstores import Chroma\n",
    "from langchain.embeddings.openai import OpenAIEmbeddings\n",
    "import chromadb\n"
   ]
  },
  {
   "cell_type": "code",
   "execution_count": 6,
   "id": "0e093ef3",
   "metadata": {
    "hide_input": false
   },
   "outputs": [],
   "source": [
    "from dotenv import load_dotenv\n",
    "\n",
    "load_dotenv()\n",
    "\n",
    "import os\n",
    "\n",
    "OPENAI_API_KEY = os.getenv(\"OPENAI_API_KEY\")\n"
   ]
  },
  {
   "cell_type": "code",
   "execution_count": 7,
   "id": "4e0d1c6a",
   "metadata": {},
   "outputs": [],
   "source": [
    "embeddings = OpenAIEmbeddings(openai_api_key=OPENAI_API_KEY)\n"
   ]
  },
  {
   "cell_type": "code",
   "execution_count": 8,
   "id": "388988ce",
   "metadata": {},
   "outputs": [
    {
     "name": "stderr",
     "output_type": "stream",
     "text": [
      "Using embedded DuckDB without persistence: data will be transient\n"
     ]
    }
   ],
   "source": [
    "collection_name = \"lecture_notes\"\n",
    "docsearch = Chroma.from_texts(\n",
    "    [t.page_content for t in texts], embeddings, collection_name=collection_name\n",
    ")\n"
   ]
  },
  {
   "cell_type": "code",
   "execution_count": 9,
   "id": "34929595",
   "metadata": {},
   "outputs": [],
   "source": [
    "query = \"What is this book about?\"\n",
    "docs = docsearch.similarity_search(query, include_metadata=True)\n"
   ]
  },
  {
   "cell_type": "code",
   "execution_count": 10,
   "id": "4e0f5b45",
   "metadata": {},
   "outputs": [
    {
     "data": {
      "text/plain": [
       "'Each chapter of this document provides a literature section that describes suggested reading. The suggested reading is not part of the exam. It is for students who are interested in background information and/or a different perspective on or presenta'"
      ]
     },
     "execution_count": 10,
     "metadata": {},
     "output_type": "execute_result"
    }
   ],
   "source": [
    "# Here's an example of the first document that was returned\n",
    "docs[0].page_content[:250]\n"
   ]
  },
  {
   "cell_type": "markdown",
   "id": "3c35dcd9",
   "metadata": {},
   "source": [
    "### Query those docs to get your answer back\n"
   ]
  },
  {
   "cell_type": "code",
   "execution_count": 11,
   "id": "f051337b",
   "metadata": {},
   "outputs": [],
   "source": [
    "from langchain.llms import OpenAI\n",
    "from langchain.chains.question_answering import load_qa_chain\n"
   ]
  },
  {
   "cell_type": "code",
   "execution_count": 12,
   "id": "6b9b1c03",
   "metadata": {},
   "outputs": [],
   "source": [
    "llm = OpenAI(temperature=0, openai_api_key=OPENAI_API_KEY)\n"
   ]
  },
  {
   "cell_type": "code",
   "execution_count": 25,
   "id": "4707e74b",
   "metadata": {},
   "outputs": [
    {
     "data": {
      "text/plain": [
       "' The security issue in this article is related to protecting the online music store from attackers and their goals. This includes protecting the store from unauthorized access, data breaches, and other malicious activities. The security requirements engineering process should identify the actors, their interests, and interdependencies, as well as potential attackers and their goals. The security design should then be enhanced by considering potential threats and techniques introduced in chapters 8, 9, and 10, and by applying countermeasures, threats, and techniques to protect the store from attackers.'"
      ]
     },
     "execution_count": 25,
     "metadata": {},
     "output_type": "execute_result"
    }
   ],
   "source": [
    "query = \"\"\"An online music store allows its members to listen to music with embedded ads for free and to download music without ads for a fee. Members can also recommend songs to other members and get a free ringtone if at least five people listen to a song based on this recommendation. Do the first steps in a basic 'security requirements engineering' for this scenario: identify actors, their interests and interdependencies. Also find attackers and their goals. (When we discuss security tools in chapters 8, 9, 10, we will come back to this exercise multiple times. In separate exercises you will be asked to enhance the requirements you extract here and the security design step-by-step by using the new knowledge you gain, e.g., with potential countermeasures, threats, techniques you learn in those chapters.)\n",
    "\"\"\"\n",
    "\n",
    "docs = docsearch.similarity_search(query, include_metadata=True)\n",
    "chain = load_qa_chain(llm, chain_type=\"stuff\")\n",
    "chain.run(input_documents=docs, question=query)\n"
   ]
  },
  {
   "cell_type": "code",
   "execution_count": 18,
   "id": "fd29a27d",
   "metadata": {},
   "outputs": [],
   "source": [
    "# from langchain.chains.summarize import load_summarize_chain\n",
    "\n",
    "# chain = load_summarize_chain(llm, chain_type=\"map_reduce\")\n",
    "# chain.run(docs)\n"
   ]
  }
 ],
 "metadata": {
  "kernelspec": {
   "display_name": "Python 3",
   "language": "python",
   "name": "python3"
  },
  "language_info": {
   "codemirror_mode": {
    "name": "ipython",
    "version": 3
   },
   "file_extension": ".py",
   "mimetype": "text/x-python",
   "name": "python",
   "nbconvert_exporter": "python",
   "pygments_lexer": "ipython3",
   "version": "3.11.0 (main, Oct 24 2022, 18:26:48) [MSC v.1933 64 bit (AMD64)]"
  },
  "vscode": {
   "interpreter": {
    "hash": "ef4b2fc86474f308c2c162d8320f47a1bbfdce1148fdd81da886bfd477849216"
   }
  }
 },
 "nbformat": 4,
 "nbformat_minor": 5
}

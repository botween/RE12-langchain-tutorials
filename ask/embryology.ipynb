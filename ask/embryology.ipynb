{
 "cells": [
  {
   "cell_type": "code",
   "execution_count": 38,
   "metadata": {},
   "outputs": [],
   "source": [
    "from IPython.display import display, Markdown, Latex"
   ]
  },
  {
   "cell_type": "code",
   "execution_count": 39,
   "metadata": {},
   "outputs": [],
   "source": [
    "import os\n",
    "import chromadb\n",
    "import pickle\n",
    "import pytesseract as pt\n",
    "from dotenv import load_dotenv\n",
    "from langchain.vectorstores import Chroma\n",
    "from langchain.embeddings.openai import OpenAIEmbeddings\n",
    "from langchain.llms import OpenAI\n",
    "from langchain.document_loaders import PyMuPDFLoader\n",
    "from langchain.text_splitter import RecursiveCharacterTextSplitter\n",
    "from langchain.chains.question_answering import load_qa_chain\n",
    "from langchain.chains.summarize import load_summarize_chain\n",
    "\n",
    "load_dotenv()\n",
    "OPENAI_API_KEY = os.getenv(\"OPENAI_API_KEY\")\n",
    "\n",
    "embeddings = OpenAIEmbeddings(openai_api_key=OPENAI_API_KEY)\n",
    "llm = OpenAI(temperature=0.7, openai_api_key=OPENAI_API_KEY)\n",
    "\n",
    "pt.pytesseract.tesseract_cmd = \"C:\\\\Program Files\\\\Tesseract-OCR\\\\tesseract.exe\"\n"
   ]
  },
  {
   "cell_type": "code",
   "execution_count": 27,
   "metadata": {},
   "outputs": [],
   "source": [
    "class ChatDoc:\n",
    "    def __init__(self, fileName: str):\n",
    "        self.fileName = fileName\n",
    "        self.init()\n",
    "\n",
    "    def load_from_pdf(self):\n",
    "        loader = PyMuPDFLoader(f\"../data/{self.fileName}.pdf\")\n",
    "        self.data = loader.load()\n",
    "        self.save_to_pkl()\n",
    "\n",
    "    def load_from_pkl(self):\n",
    "        with open(f\"../data/{self.fileName}.pkl\", \"rb\") as f:\n",
    "            self.data = pickle.load(f)\n",
    "\n",
    "    def save_to_pkl(self):\n",
    "        with open(f\"../data/{self.fileName}.pkl\", \"wb\") as f:\n",
    "            pickle.dump(self.data, f)\n",
    "\n",
    "    def init(self):\n",
    "        if os.path.exists(f\"../data/chroma/{self.fileName}\"):\n",
    "            self.docsearch = Chroma(persist_directory=f\"../data/chroma/{self.fileName}\", embedding_function=embeddings, collection_name=self.fileName)\n",
    "            return\n",
    "        \n",
    "        if os.path.exists(f\"../data/{self.fileName}.pkl\"):\n",
    "            self.load_from_pkl()\n",
    "        else:\n",
    "            self.load_from_pdf()\n",
    "\n",
    "        self.text_splitter = RecursiveCharacterTextSplitter(\n",
    "            chunk_size=1000, chunk_overlap=0\n",
    "        )\n",
    "        self.texts = self.text_splitter.split_documents(self.data)\n",
    "\n",
    "        self.docsearch = Chroma.from_texts(\n",
    "            [t.page_content for t in self.texts],\n",
    "            embeddings,\n",
    "            collection_name=self.fileName,\n",
    "            persist_directory=f\"../data/chroma/{self.fileName}\",\n",
    "        )\n",
    "\n",
    "        self.docsearch.persist()\n",
    "\n",
    "    def query(self, q: str):\n",
    "        docs = self.docsearch.similarity_search(q, include_metadata=True)\n",
    "        chain = load_qa_chain(llm, chain_type=\"stuff\")\n",
    "        return str(chain.run(input_documents=docs, question=q)).strip()\n",
    "\n",
    "    def summarize(self):\n",
    "        chain = load_summarize_chain(llm, chain_type=\"map_reduce\")\n",
    "        return str(chain.run(self.texts[:5])).strip()\n"
   ]
  },
  {
   "cell_type": "code",
   "execution_count": 28,
   "metadata": {},
   "outputs": [
    {
     "name": "stderr",
     "output_type": "stream",
     "text": [
      "Using embedded DuckDB with persistence: data will be stored in: ../data/chroma/embryology\n"
     ]
    }
   ],
   "source": [
    "embryology = ChatDoc(\"embryology\")"
   ]
  },
  {
   "cell_type": "code",
   "execution_count": 24,
   "metadata": {},
   "outputs": [
    {
     "data": {
      "text/plain": [
       "'The neural tube is derived from the ectoderm.'"
      ]
     },
     "execution_count": 24,
     "metadata": {},
     "output_type": "execute_result"
    }
   ],
   "source": [
    "embryology.query(\"From what dermal layer is the neural tube derived?\")"
   ]
  },
  {
   "cell_type": "code",
   "execution_count": 25,
   "metadata": {},
   "outputs": [
    {
     "data": {
      "text/plain": [
       "'Gastrulation is a formative process by which the three germ layers, which are precursors of all embryonic tissues, and the axial orientation are established in embryos. During gastrulation, the bilaminar embryonic disc is converted into a trilaminar embryonic disc. This process begins with the appearance of the primitive streak, which appears at the beginning of the third week as a thickening of the epiblast at the caudal end of the embryonic disc. The primitive streak results from migration of epiblastic cells to the median plane of the disc. Invagination of epiblastic cells from the primitive streak gives rise to the three germ layers (ectoderm, mesoderm, and endoderm). Extensive cell shape changes, rearrangement, movement, and alterations in adhesive properties contribute to the process of gastrulation. Bone morphogenetic proteins and other signaling molecules such as FGFs, Shh (sonic hedgehog), Tgifs, and Wnts play a crucial role in gastrulation.'"
      ]
     },
     "execution_count": 25,
     "metadata": {},
     "output_type": "execute_result"
    }
   ],
   "source": [
    "embryology.query(\"Explain the process of gastrulation\")"
   ]
  },
  {
   "cell_type": "code",
   "execution_count": 32,
   "metadata": {},
   "outputs": [
    {
     "data": {
      "text/plain": [
       "'Gastrulation is the process of development when the bilaminar embryonic disc is converted into a trilaminar embryonic disc. During this process, there is extensive cell shape changes, rearrangement, movement, and alterations in adhesive properties. This process is also when the three germ layers (ectoderm, mesoderm, and endoderm) are established. The ectoderm gives rise to the epidermis, central and peripheral nervous systems, eyes and internal ears, neural crest cells, and many connective tissues of the head. The mesoderm gives rise to muscle, bone, cartilage, and connective tissue and the endoderm gives rise to the digestive system.'"
      ]
     },
     "execution_count": 32,
     "metadata": {},
     "output_type": "execute_result"
    }
   ],
   "source": [
    "embryology.query(\"Explain the process of gastrulation in simple terms\")"
   ]
  },
  {
   "cell_type": "code",
   "execution_count": 33,
   "metadata": {},
   "outputs": [
    {
     "data": {
      "text/plain": [
       "\"Gastrulation is like a cell party! Cells rearrange, change shape, and move around to form the three germ layers - ectoderm, mesoderm, and endoderm - like guests at a big bash. They show up, dance, and mingle, and by the time the party's over everyone's got new friends and new places to be!\""
      ]
     },
     "execution_count": 33,
     "metadata": {},
     "output_type": "execute_result"
    }
   ],
   "source": [
    "embryology.query(\"Explain the process of gastrulation in a very funny way\")"
   ]
  },
  {
   "cell_type": "code",
   "execution_count": 37,
   "metadata": {},
   "outputs": [
    {
     "data": {
      "text/plain": [
       "'Gastrulation is a process that happens in the early stages of development. Tiny cells in the embryo move around and arrange into three different layers. These layers are called the ectoderm, mesoderm, and endoderm. These layers will become the different parts of the body, like the skin, bones, and organs.'"
      ]
     },
     "execution_count": 37,
     "metadata": {},
     "output_type": "execute_result"
    }
   ],
   "source": [
    "embryology.query(\"Act as a teacher of elementary school. Explain the process of gastrulation. Use only basic words. Replace all complex words with very basic words.\")"
   ]
  },
  {
   "cell_type": "code",
   "execution_count": 64,
   "metadata": {},
   "outputs": [
    {
     "data": {
      "text/plain": [
       "'Gastrulation is like building a house. Just like how a house starts out with a blueprint and then builders lay down the foundation and the walls, during gastrulation, cells move around and become organized to form the basis of the body.'"
      ]
     },
     "execution_count": 64,
     "metadata": {},
     "output_type": "execute_result"
    }
   ],
   "source": [
    "embryology.query(\"Act as a teacher of elementary school. Find a metaphor to illustrate gastrulation.\")"
   ]
  },
  {
   "cell_type": "code",
   "execution_count": 63,
   "metadata": {},
   "outputs": [
    {
     "data": {
      "text/markdown": [
       "- <font color=\"blue\">Formation of the trilaminar embryonic disc</font> \n",
       "- <font color=\"green\">Development of the notochordal process</font>"
      ],
      "text/plain": [
       "<IPython.core.display.Markdown object>"
      ]
     },
     "execution_count": 63,
     "metadata": {},
     "output_type": "execute_result"
    }
   ],
   "source": [
    "Markdown(\n",
    "    embryology.query(\n",
    "        \"Give me a bullet list of two processes during embryonic development in markdown format. For each bullet point, make the text a different color using html tags.\"\n",
    "    )\n",
    ")\n"
   ]
  },
  {
   "cell_type": "code",
   "execution_count": 54,
   "metadata": {},
   "outputs": [
    {
     "data": {
      "text/markdown": [
       "$\\begin{aligned}\n",
       "S(\\omega) \n",
       "&= \\frac{\\alpha g^2}{\\omega^5} e^{[ -0.74\\bigl\\{\\frac{\\omega U_\\omega 19.5}{g}\\bigr\\}^{\\!-4}\\,]} \\\\\n",
       "&= \\frac{\\alpha g^2}{\\omega^5} \\exp\\Bigl[ -0.74\\Bigl\\{\\frac{\\omega U_\\omega 19.5}{g}\\Bigr\\}^{\\!-4}\\,\\Bigr] \n",
       "\\end{aligned}$"
      ],
      "text/plain": [
       "<IPython.core.display.Markdown object>"
      ]
     },
     "execution_count": 54,
     "metadata": {},
     "output_type": "execute_result"
    }
   ],
   "source": [
    "Markdown(r\"\"\"$\\begin{aligned}\n",
    "S(\\omega) \n",
    "&= \\frac{\\alpha g^2}{\\omega^5} e^{[ -0.74\\bigl\\{\\frac{\\omega U_\\omega 19.5}{g}\\bigr\\}^{\\!-4}\\,]} \\\\\n",
    "&= \\frac{\\alpha g^2}{\\omega^5} \\exp\\Bigl[ -0.74\\Bigl\\{\\frac{\\omega U_\\omega 19.5}{g}\\Bigr\\}^{\\!-4}\\,\\Bigr] \n",
    "\\end{aligned}$\"\"\")"
   ]
  }
 ],
 "metadata": {
  "kernelspec": {
   "display_name": "Python 3.10.0 64-bit",
   "language": "python",
   "name": "python3"
  },
  "language_info": {
   "codemirror_mode": {
    "name": "ipython",
    "version": 3
   },
   "file_extension": ".py",
   "mimetype": "text/x-python",
   "name": "python",
   "nbconvert_exporter": "python",
   "pygments_lexer": "ipython3",
   "version": "3.10.0"
  },
  "orig_nbformat": 4,
  "vscode": {
   "interpreter": {
    "hash": "c5d01433c49bebc7c0f039aefb7a5f7006b5cc5372ab57f4229212c8564f15fd"
   }
  }
 },
 "nbformat": 4,
 "nbformat_minor": 2
}

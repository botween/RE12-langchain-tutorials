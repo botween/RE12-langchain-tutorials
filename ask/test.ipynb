{
 "cells": [
  {
   "cell_type": "code",
   "execution_count": 21,
   "metadata": {},
   "outputs": [],
   "source": [
    "import os\n",
    "import chromadb\n",
    "import pickle\n",
    "import pytesseract as pt\n",
    "from dotenv import load_dotenv\n",
    "from langchain.vectorstores import Chroma\n",
    "from langchain.embeddings.openai import OpenAIEmbeddings\n",
    "from langchain.llms import OpenAI\n",
    "from langchain.document_loaders import (\n",
    "    UnstructuredPDFLoader,\n",
    "    OnlinePDFLoader,\n",
    "    PyMuPDFLoader,\n",
    ")\n",
    "from langchain.text_splitter import RecursiveCharacterTextSplitter\n",
    "from langchain.chains.question_answering import load_qa_chain\n",
    "from langchain.chains.summarize import load_summarize_chain\n",
    "\n",
    "load_dotenv()\n",
    "OPENAI_API_KEY = os.getenv(\"OPENAI_API_KEY\")\n",
    "\n",
    "embeddings = OpenAIEmbeddings(openai_api_key=OPENAI_API_KEY)\n",
    "llm = OpenAI(temperature=0, openai_api_key=OPENAI_API_KEY)\n",
    "\n",
    "pt.pytesseract.tesseract_cmd = \"C:\\\\Program Files\\\\Tesseract-OCR\\\\tesseract.exe\"\n"
   ]
  },
  {
   "cell_type": "code",
   "execution_count": 2,
   "metadata": {},
   "outputs": [],
   "source": [
    "fileName = \"deepfake\"\n",
    "loader = UnstructuredPDFLoader(f\"../data/{fileName}.pdf\")\n",
    "data = loader.load()"
   ]
  },
  {
   "cell_type": "code",
   "execution_count": 16,
   "metadata": {},
   "outputs": [
    {
     "data": {
      "text/plain": [
       "{'title': 'Document',\n",
       " 'description': 'Interface for interacting with a document.',\n",
       " 'type': 'object',\n",
       " 'properties': {'page_content': {'title': 'Page Content', 'type': 'string'},\n",
       "  'metadata': {'title': 'Metadata', 'type': 'object'}},\n",
       " 'required': ['page_content']}"
      ]
     },
     "execution_count": 16,
     "metadata": {},
     "output_type": "execute_result"
    }
   ],
   "source": [
    "data[0].schema()"
   ]
  },
  {
   "cell_type": "code",
   "execution_count": 19,
   "metadata": {},
   "outputs": [
    {
     "data": {
      "text/plain": [
       "dict_keys(['page_content', 'metadata'])"
      ]
     },
     "execution_count": 19,
     "metadata": {},
     "output_type": "execute_result"
    }
   ],
   "source": [
    "data[0].dict().keys()"
   ]
  },
  {
   "cell_type": "code",
   "execution_count": 23,
   "metadata": {},
   "outputs": [],
   "source": [
    "fileName = \"deepfake\"\n",
    "loader = PyMuPDFLoader(f\"../data/{fileName}.pdf\")\n",
    "data = loader.load()"
   ]
  },
  {
   "cell_type": "code",
   "execution_count": 25,
   "metadata": {},
   "outputs": [],
   "source": [
    "loader = PyMuPDFLoader(f\"../data/asml.pdf\")\n",
    "data = loader.load()\n"
   ]
  },
  {
   "cell_type": "code",
   "execution_count": 27,
   "metadata": {},
   "outputs": [
    {
     "ename": "KeyboardInterrupt",
     "evalue": "",
     "output_type": "error",
     "traceback": [
      "\u001b[1;31m---------------------------------------------------------------------------\u001b[0m",
      "\u001b[1;31mKeyboardInterrupt\u001b[0m                         Traceback (most recent call last)",
      "Cell \u001b[1;32mIn [27], line 2\u001b[0m\n\u001b[0;32m      1\u001b[0m loader \u001b[38;5;241m=\u001b[39m UnstructuredPDFLoader(\u001b[38;5;124mf\u001b[39m\u001b[38;5;124m\"\u001b[39m\u001b[38;5;124m../data/asml.pdf\u001b[39m\u001b[38;5;124m\"\u001b[39m)\n\u001b[1;32m----> 2\u001b[0m data \u001b[38;5;241m=\u001b[39m \u001b[43mloader\u001b[49m\u001b[38;5;241;43m.\u001b[39;49m\u001b[43mload\u001b[49m\u001b[43m(\u001b[49m\u001b[43m)\u001b[49m\n",
      "File \u001b[1;32mc:\\Users\\Simon\\AppData\\Local\\Programs\\Python\\Python310\\lib\\site-packages\\langchain\\document_loaders\\unstructured.py:61\u001b[0m, in \u001b[0;36mUnstructuredBaseLoader.load\u001b[1;34m(self)\u001b[0m\n\u001b[0;32m     59\u001b[0m \u001b[39mdef\u001b[39;00m \u001b[39mload\u001b[39m(\u001b[39mself\u001b[39m) \u001b[39m-\u001b[39m\u001b[39m>\u001b[39m List[Document]:\n\u001b[0;32m     60\u001b[0m     \u001b[39m\"\"\"Load file.\"\"\"\u001b[39;00m\n\u001b[1;32m---> 61\u001b[0m     elements \u001b[39m=\u001b[39m \u001b[39mself\u001b[39;49m\u001b[39m.\u001b[39;49m_get_elements()\n\u001b[0;32m     62\u001b[0m     \u001b[39mif\u001b[39;00m \u001b[39mself\u001b[39m\u001b[39m.\u001b[39mmode \u001b[39m==\u001b[39m \u001b[39m\"\u001b[39m\u001b[39melements\u001b[39m\u001b[39m\"\u001b[39m:\n\u001b[0;32m     63\u001b[0m         docs: List[Document] \u001b[39m=\u001b[39m \u001b[39mlist\u001b[39m()\n",
      "File \u001b[1;32mc:\\Users\\Simon\\AppData\\Local\\Programs\\Python\\Python310\\lib\\site-packages\\langchain\\document_loaders\\pdf.py:29\u001b[0m, in \u001b[0;36mUnstructuredPDFLoader._get_elements\u001b[1;34m(self)\u001b[0m\n\u001b[0;32m     26\u001b[0m \u001b[39mdef\u001b[39;00m \u001b[39m_get_elements\u001b[39m(\u001b[39mself\u001b[39m) \u001b[39m-\u001b[39m\u001b[39m>\u001b[39m List:\n\u001b[0;32m     27\u001b[0m     \u001b[39mfrom\u001b[39;00m \u001b[39munstructured\u001b[39;00m\u001b[39m.\u001b[39;00m\u001b[39mpartition\u001b[39;00m\u001b[39m.\u001b[39;00m\u001b[39mpdf\u001b[39;00m \u001b[39mimport\u001b[39;00m partition_pdf\n\u001b[1;32m---> 29\u001b[0m     \u001b[39mreturn\u001b[39;00m partition_pdf(filename\u001b[39m=\u001b[39m\u001b[39mself\u001b[39m\u001b[39m.\u001b[39mfile_path, \u001b[39m*\u001b[39m\u001b[39m*\u001b[39m\u001b[39mself\u001b[39m\u001b[39m.\u001b[39munstructured_kwargs)\n",
      "File \u001b[1;32mc:\\Users\\Simon\\AppData\\Local\\Programs\\Python\\Python310\\lib\\site-packages\\unstructured\\partition\\pdf.py:65\u001b[0m, in \u001b[0;36mpartition_pdf\u001b[1;34m(filename, file, url, template, token, include_page_breaks, strategy, infer_table_structure, encoding, ocr_languages)\u001b[0m\n\u001b[0;32m     32\u001b[0m \u001b[39m\"\"\"Parses a pdf document into a list of interpreted elements.\u001b[39;00m\n\u001b[0;32m     33\u001b[0m \u001b[39mParameters\u001b[39;00m\n\u001b[0;32m     34\u001b[0m \u001b[39m----------\u001b[39;00m\n\u001b[1;32m   (...)\u001b[0m\n\u001b[0;32m     62\u001b[0m \u001b[39m    to isntall the appropriate Tesseract language pack.\u001b[39;00m\n\u001b[0;32m     63\u001b[0m \u001b[39m\"\"\"\u001b[39;00m\n\u001b[0;32m     64\u001b[0m exactly_one(filename\u001b[39m=\u001b[39mfilename, file\u001b[39m=\u001b[39mfile)\n\u001b[1;32m---> 65\u001b[0m \u001b[39mreturn\u001b[39;00m partition_pdf_or_image(\n\u001b[0;32m     66\u001b[0m     filename\u001b[39m=\u001b[39;49mfilename,\n\u001b[0;32m     67\u001b[0m     file\u001b[39m=\u001b[39;49mfile,\n\u001b[0;32m     68\u001b[0m     url\u001b[39m=\u001b[39;49murl,\n\u001b[0;32m     69\u001b[0m     template\u001b[39m=\u001b[39;49mtemplate,\n\u001b[0;32m     70\u001b[0m     token\u001b[39m=\u001b[39;49mtoken,\n\u001b[0;32m     71\u001b[0m     include_page_breaks\u001b[39m=\u001b[39;49minclude_page_breaks,\n\u001b[0;32m     72\u001b[0m     strategy\u001b[39m=\u001b[39;49mstrategy,\n\u001b[0;32m     73\u001b[0m     infer_table_structure\u001b[39m=\u001b[39;49minfer_table_structure,\n\u001b[0;32m     74\u001b[0m     encoding\u001b[39m=\u001b[39;49mencoding,\n\u001b[0;32m     75\u001b[0m     ocr_languages\u001b[39m=\u001b[39;49mocr_languages,\n\u001b[0;32m     76\u001b[0m )\n",
      "File \u001b[1;32mc:\\Users\\Simon\\AppData\\Local\\Programs\\Python\\Python310\\lib\\site-packages\\unstructured\\partition\\pdf.py:137\u001b[0m, in \u001b[0;36mpartition_pdf_or_image\u001b[1;34m(filename, file, url, template, token, is_image, include_page_breaks, strategy, infer_table_structure, encoding, ocr_languages)\u001b[0m\n\u001b[0;32m    135\u001b[0m     \u001b[39mwith\u001b[39;00m warnings\u001b[39m.\u001b[39mcatch_warnings():\n\u001b[0;32m    136\u001b[0m         warnings\u001b[39m.\u001b[39msimplefilter(\u001b[39m\"\u001b[39m\u001b[39mignore\u001b[39m\u001b[39m\"\u001b[39m)\n\u001b[1;32m--> 137\u001b[0m         layout_elements \u001b[39m=\u001b[39m _partition_pdf_or_image_local(\n\u001b[0;32m    138\u001b[0m             filename\u001b[39m=\u001b[39;49mfilename,\n\u001b[0;32m    139\u001b[0m             file\u001b[39m=\u001b[39;49mfile,\n\u001b[0;32m    140\u001b[0m             template\u001b[39m=\u001b[39;49mout_template,\n\u001b[0;32m    141\u001b[0m             is_image\u001b[39m=\u001b[39;49mis_image,\n\u001b[0;32m    142\u001b[0m             infer_table_structure\u001b[39m=\u001b[39;49minfer_table_structure,\n\u001b[0;32m    143\u001b[0m             include_page_breaks\u001b[39m=\u001b[39;49m\u001b[39mTrue\u001b[39;49;00m,\n\u001b[0;32m    144\u001b[0m             ocr_languages\u001b[39m=\u001b[39;49mocr_languages,\n\u001b[0;32m    145\u001b[0m         )\n\u001b[0;32m    147\u001b[0m \u001b[39melif\u001b[39;00m (strategy \u001b[39m==\u001b[39m \u001b[39m\"\u001b[39m\u001b[39mfast\u001b[39m\u001b[39m\"\u001b[39m \u001b[39mor\u001b[39;00m fallback_to_fast) \u001b[39mand\u001b[39;00m \u001b[39mnot\u001b[39;00m fallback_to_hi_res:\n\u001b[0;32m    148\u001b[0m     \u001b[39mif\u001b[39;00m strategy \u001b[39m==\u001b[39m \u001b[39m\"\u001b[39m\u001b[39mhi_res\u001b[39m\u001b[39m\"\u001b[39m:\n",
      "File \u001b[1;32mc:\\Users\\Simon\\AppData\\Local\\Programs\\Python\\Python310\\lib\\site-packages\\unstructured\\partition\\pdf.py:224\u001b[0m, in \u001b[0;36m_partition_pdf_or_image_local\u001b[1;34m(filename, file, template, is_image, infer_table_structure, include_page_breaks, ocr_languages)\u001b[0m\n\u001b[0;32m    216\u001b[0m     \u001b[39mraise\u001b[39;00m \u001b[39mException\u001b[39;00m(\n\u001b[0;32m    217\u001b[0m         \u001b[39m\"\u001b[39m\u001b[39mThere was a problem importing unstructured_inference module - it may not be installed \u001b[39m\u001b[39m\"\u001b[39m\n\u001b[0;32m    218\u001b[0m         \u001b[39m\"\u001b[39m\u001b[39mcorrectly... try running pip install unstructured[local-inference] if you installed \u001b[39m\u001b[39m\"\u001b[39m\n\u001b[0;32m    219\u001b[0m         \u001b[39m\"\u001b[39m\u001b[39mthe unstructured library as a package. If you cloned the unstructured repository, try \u001b[39m\u001b[39m\"\u001b[39m\n\u001b[0;32m    220\u001b[0m         \u001b[39m\"\u001b[39m\u001b[39mrunning make install-local-inference from the root directory of the repository.\u001b[39m\u001b[39m\"\u001b[39m,\n\u001b[0;32m    221\u001b[0m     ) \u001b[39mfrom\u001b[39;00m \u001b[39me\u001b[39;00m\n\u001b[0;32m    223\u001b[0m \u001b[39mif\u001b[39;00m file \u001b[39mis\u001b[39;00m \u001b[39mNone\u001b[39;00m:\n\u001b[1;32m--> 224\u001b[0m     layout \u001b[39m=\u001b[39m process_file_with_model(\n\u001b[0;32m    225\u001b[0m         filename,\n\u001b[0;32m    226\u001b[0m         template,\n\u001b[0;32m    227\u001b[0m         is_image\u001b[39m=\u001b[39;49mis_image,\n\u001b[0;32m    228\u001b[0m         ocr_languages\u001b[39m=\u001b[39;49mocr_languages,\n\u001b[0;32m    229\u001b[0m         extract_tables\u001b[39m=\u001b[39;49minfer_table_structure,\n\u001b[0;32m    230\u001b[0m     )\n\u001b[0;32m    231\u001b[0m \u001b[39melse\u001b[39;00m:\n\u001b[0;32m    232\u001b[0m     layout \u001b[39m=\u001b[39m process_data_with_model(\n\u001b[0;32m    233\u001b[0m         file,\n\u001b[0;32m    234\u001b[0m         template,\n\u001b[1;32m   (...)\u001b[0m\n\u001b[0;32m    237\u001b[0m         extract_tables\u001b[39m=\u001b[39minfer_table_structure,\n\u001b[0;32m    238\u001b[0m     )\n",
      "File \u001b[1;32mc:\\Users\\Simon\\AppData\\Local\\Programs\\Python\\Python310\\lib\\site-packages\\unstructured_inference\\inference\\layout.py:260\u001b[0m, in \u001b[0;36mprocess_file_with_model\u001b[1;34m(filename, model_name, is_image, ocr_strategy, ocr_languages, fixed_layouts, extract_tables)\u001b[0m\n\u001b[0;32m    248\u001b[0m \u001b[39m\"\"\"Processes pdf file with name filename into a DocumentLayout by using a model identified by\u001b[39;00m\n\u001b[0;32m    249\u001b[0m \u001b[39mmodel_name.\"\"\"\u001b[39;00m\n\u001b[0;32m    250\u001b[0m model \u001b[39m=\u001b[39m get_model(model_name)\n\u001b[0;32m    251\u001b[0m layout \u001b[39m=\u001b[39m (\n\u001b[0;32m    252\u001b[0m     DocumentLayout\u001b[39m.\u001b[39mfrom_image_file(\n\u001b[0;32m    253\u001b[0m         filename,\n\u001b[0;32m    254\u001b[0m         model\u001b[39m=\u001b[39mmodel,\n\u001b[0;32m    255\u001b[0m         ocr_strategy\u001b[39m=\u001b[39mocr_strategy,\n\u001b[0;32m    256\u001b[0m         ocr_languages\u001b[39m=\u001b[39mocr_languages,\n\u001b[0;32m    257\u001b[0m         extract_tables\u001b[39m=\u001b[39mextract_tables,\n\u001b[0;32m    258\u001b[0m     )\n\u001b[0;32m    259\u001b[0m     \u001b[39mif\u001b[39;00m is_image\n\u001b[1;32m--> 260\u001b[0m     \u001b[39melse\u001b[39;00m DocumentLayout\u001b[39m.\u001b[39;49mfrom_file(\n\u001b[0;32m    261\u001b[0m         filename,\n\u001b[0;32m    262\u001b[0m         model\u001b[39m=\u001b[39;49mmodel,\n\u001b[0;32m    263\u001b[0m         ocr_strategy\u001b[39m=\u001b[39;49mocr_strategy,\n\u001b[0;32m    264\u001b[0m         ocr_languages\u001b[39m=\u001b[39;49mocr_languages,\n\u001b[0;32m    265\u001b[0m         fixed_layouts\u001b[39m=\u001b[39;49mfixed_layouts,\n\u001b[0;32m    266\u001b[0m         extract_tables\u001b[39m=\u001b[39;49mextract_tables,\n\u001b[0;32m    267\u001b[0m     )\n\u001b[0;32m    268\u001b[0m )\n\u001b[0;32m    269\u001b[0m \u001b[39mreturn\u001b[39;00m layout\n",
      "File \u001b[1;32mc:\\Users\\Simon\\AppData\\Local\\Programs\\Python\\Python310\\lib\\site-packages\\unstructured_inference\\inference\\layout.py:63\u001b[0m, in \u001b[0;36mDocumentLayout.from_file\u001b[1;34m(cls, filename, model, fixed_layouts, ocr_strategy, ocr_languages, extract_tables)\u001b[0m\n\u001b[0;32m     61\u001b[0m \u001b[39m\"\"\"Creates a DocumentLayout from a pdf file.\"\"\"\u001b[39;00m\n\u001b[0;32m     62\u001b[0m logger\u001b[39m.\u001b[39minfo(\u001b[39mf\u001b[39m\u001b[39m\"\u001b[39m\u001b[39mReading PDF for file: \u001b[39m\u001b[39m{\u001b[39;00mfilename\u001b[39m}\u001b[39;00m\u001b[39m ...\u001b[39m\u001b[39m\"\u001b[39m)\n\u001b[1;32m---> 63\u001b[0m layouts, images \u001b[39m=\u001b[39m load_pdf(filename)\n\u001b[0;32m     64\u001b[0m \u001b[39mif\u001b[39;00m \u001b[39mlen\u001b[39m(layouts) \u001b[39m>\u001b[39m \u001b[39mlen\u001b[39m(images):\n\u001b[0;32m     65\u001b[0m     \u001b[39mraise\u001b[39;00m \u001b[39mRuntimeError\u001b[39;00m(\n\u001b[0;32m     66\u001b[0m         \u001b[39m\"\u001b[39m\u001b[39mSome images were not loaded. Check that poppler is installed and in your $PATH.\u001b[39m\u001b[39m\"\u001b[39m\n\u001b[0;32m     67\u001b[0m     )\n",
      "File \u001b[1;32mc:\\Users\\Simon\\AppData\\Local\\Programs\\Python\\Python310\\lib\\site-packages\\unstructured_inference\\inference\\layout.py:314\u001b[0m, in \u001b[0;36mload_pdf\u001b[1;34m(filename, x_tolerance, y_tolerance, keep_blank_chars, use_text_flow, horizontal_ltr, vertical_ttb, extra_attrs, split_at_punctuation, dpi)\u001b[0m\n\u001b[0;32m    312\u001b[0m images \u001b[39m=\u001b[39m []\n\u001b[0;32m    313\u001b[0m \u001b[39mfor\u001b[39;00m page \u001b[39min\u001b[39;00m pdf_object\u001b[39m.\u001b[39mpages:\n\u001b[1;32m--> 314\u001b[0m     plumber_words \u001b[39m=\u001b[39m page\u001b[39m.\u001b[39;49mextract_words(\n\u001b[0;32m    315\u001b[0m         x_tolerance\u001b[39m=\u001b[39;49mx_tolerance,\n\u001b[0;32m    316\u001b[0m         y_tolerance\u001b[39m=\u001b[39;49my_tolerance,\n\u001b[0;32m    317\u001b[0m         keep_blank_chars\u001b[39m=\u001b[39;49mkeep_blank_chars,\n\u001b[0;32m    318\u001b[0m         use_text_flow\u001b[39m=\u001b[39;49muse_text_flow,\n\u001b[0;32m    319\u001b[0m         horizontal_ltr\u001b[39m=\u001b[39;49mhorizontal_ltr,\n\u001b[0;32m    320\u001b[0m         vertical_ttb\u001b[39m=\u001b[39;49mvertical_ttb,\n\u001b[0;32m    321\u001b[0m         extra_attrs\u001b[39m=\u001b[39;49mextra_attrs,\n\u001b[0;32m    322\u001b[0m         split_at_punctuation\u001b[39m=\u001b[39;49msplit_at_punctuation,\n\u001b[0;32m    323\u001b[0m     )\n\u001b[0;32m    324\u001b[0m     word_objs: List[TextRegion] \u001b[39m=\u001b[39m [\n\u001b[0;32m    325\u001b[0m         EmbeddedTextRegion(\n\u001b[0;32m    326\u001b[0m             x1\u001b[39m=\u001b[39mword[\u001b[39m\"\u001b[39m\u001b[39mx0\u001b[39m\u001b[39m\"\u001b[39m] \u001b[39m*\u001b[39m dpi \u001b[39m/\u001b[39m \u001b[39m72\u001b[39m,\n\u001b[1;32m   (...)\u001b[0m\n\u001b[0;32m    332\u001b[0m         \u001b[39mfor\u001b[39;00m word \u001b[39min\u001b[39;00m plumber_words\n\u001b[0;32m    333\u001b[0m     ]\n\u001b[0;32m    334\u001b[0m     image_objs: List[TextRegion] \u001b[39m=\u001b[39m [\n\u001b[0;32m    335\u001b[0m         ImageTextRegion(\n\u001b[0;32m    336\u001b[0m             x1\u001b[39m=\u001b[39mimage[\u001b[39m\"\u001b[39m\u001b[39mx0\u001b[39m\u001b[39m\"\u001b[39m] \u001b[39m*\u001b[39m dpi \u001b[39m/\u001b[39m \u001b[39m72\u001b[39m,\n\u001b[1;32m   (...)\u001b[0m\n\u001b[0;32m    341\u001b[0m         \u001b[39mfor\u001b[39;00m image \u001b[39min\u001b[39;00m page\u001b[39m.\u001b[39mimages\n\u001b[0;32m    342\u001b[0m     ]\n",
      "File \u001b[1;32mc:\\Users\\Simon\\AppData\\Local\\Programs\\Python\\Python310\\lib\\site-packages\\pdfplumber\\page.py:356\u001b[0m, in \u001b[0;36mPage.extract_words\u001b[1;34m(self, **kwargs)\u001b[0m\n\u001b[0;32m    355\u001b[0m \u001b[39mdef\u001b[39;00m \u001b[39mextract_words\u001b[39m(\u001b[39mself\u001b[39m, \u001b[39m*\u001b[39m\u001b[39m*\u001b[39mkwargs: Any) \u001b[39m-\u001b[39m\u001b[39m>\u001b[39m T_obj_list:\n\u001b[1;32m--> 356\u001b[0m     \u001b[39mreturn\u001b[39;00m utils\u001b[39m.\u001b[39mextract_words(\u001b[39mself\u001b[39;49m\u001b[39m.\u001b[39;49mchars, \u001b[39m*\u001b[39m\u001b[39m*\u001b[39mkwargs)\n",
      "File \u001b[1;32mc:\\Users\\Simon\\AppData\\Local\\Programs\\Python\\Python310\\lib\\site-packages\\pdfplumber\\container.py:50\u001b[0m, in \u001b[0;36mContainer.chars\u001b[1;34m(self)\u001b[0m\n\u001b[0;32m     48\u001b[0m \u001b[39m@property\u001b[39m\n\u001b[0;32m     49\u001b[0m \u001b[39mdef\u001b[39;00m \u001b[39mchars\u001b[39m(\u001b[39mself\u001b[39m) \u001b[39m-\u001b[39m\u001b[39m>\u001b[39m T_obj_list:\n\u001b[1;32m---> 50\u001b[0m     \u001b[39mreturn\u001b[39;00m \u001b[39mself\u001b[39;49m\u001b[39m.\u001b[39;49mobjects\u001b[39m.\u001b[39mget(\u001b[39m\"\u001b[39m\u001b[39mchar\u001b[39m\u001b[39m\"\u001b[39m, [])\n",
      "File \u001b[1;32mc:\\Users\\Simon\\AppData\\Local\\Programs\\Python\\Python310\\lib\\site-packages\\pdfplumber\\page.py:215\u001b[0m, in \u001b[0;36mPage.objects\u001b[1;34m(self)\u001b[0m\n\u001b[0;32m    213\u001b[0m \u001b[39mif\u001b[39;00m \u001b[39mhasattr\u001b[39m(\u001b[39mself\u001b[39m, \u001b[39m\"\u001b[39m\u001b[39m_objects\u001b[39m\u001b[39m\"\u001b[39m):\n\u001b[0;32m    214\u001b[0m     \u001b[39mreturn\u001b[39;00m \u001b[39mself\u001b[39m\u001b[39m.\u001b[39m_objects\n\u001b[1;32m--> 215\u001b[0m \u001b[39mself\u001b[39m\u001b[39m.\u001b[39m_objects: Dict[\u001b[39mstr\u001b[39m, T_obj_list] \u001b[39m=\u001b[39m \u001b[39mself\u001b[39;49m\u001b[39m.\u001b[39;49mparse_objects()\n\u001b[0;32m    216\u001b[0m \u001b[39mreturn\u001b[39;00m \u001b[39mself\u001b[39m\u001b[39m.\u001b[39m_objects\n",
      "File \u001b[1;32mc:\\Users\\Simon\\AppData\\Local\\Programs\\Python\\Python310\\lib\\site-packages\\pdfplumber\\page.py:275\u001b[0m, in \u001b[0;36mPage.parse_objects\u001b[1;34m(self)\u001b[0m\n\u001b[0;32m    273\u001b[0m \u001b[39mdef\u001b[39;00m \u001b[39mparse_objects\u001b[39m(\u001b[39mself\u001b[39m) \u001b[39m-\u001b[39m\u001b[39m>\u001b[39m Dict[\u001b[39mstr\u001b[39m, T_obj_list]:\n\u001b[0;32m    274\u001b[0m     objects: Dict[\u001b[39mstr\u001b[39m, T_obj_list] \u001b[39m=\u001b[39m {}\n\u001b[1;32m--> 275\u001b[0m     \u001b[39mfor\u001b[39;00m obj \u001b[39min\u001b[39;00m \u001b[39mself\u001b[39m\u001b[39m.\u001b[39miter_layout_objects(\u001b[39mself\u001b[39;49m\u001b[39m.\u001b[39;49mlayout\u001b[39m.\u001b[39m_objs):\n\u001b[0;32m    276\u001b[0m         kind \u001b[39m=\u001b[39m obj[\u001b[39m\"\u001b[39m\u001b[39mobject_type\u001b[39m\u001b[39m\"\u001b[39m]\n\u001b[0;32m    277\u001b[0m         \u001b[39mif\u001b[39;00m kind \u001b[39min\u001b[39;00m [\u001b[39m\"\u001b[39m\u001b[39manno\u001b[39m\u001b[39m\"\u001b[39m]:\n",
      "File \u001b[1;32mc:\\Users\\Simon\\AppData\\Local\\Programs\\Python\\Python310\\lib\\site-packages\\pdfplumber\\page.py:161\u001b[0m, in \u001b[0;36mPage.layout\u001b[1;34m(self)\u001b[0m\n\u001b[0;32m    155\u001b[0m device \u001b[39m=\u001b[39m PDFPageAggregator(\n\u001b[0;32m    156\u001b[0m     \u001b[39mself\u001b[39m\u001b[39m.\u001b[39mpdf\u001b[39m.\u001b[39mrsrcmgr,\n\u001b[0;32m    157\u001b[0m     pageno\u001b[39m=\u001b[39m\u001b[39mself\u001b[39m\u001b[39m.\u001b[39mpage_number,\n\u001b[0;32m    158\u001b[0m     laparams\u001b[39m=\u001b[39m\u001b[39mself\u001b[39m\u001b[39m.\u001b[39mpdf\u001b[39m.\u001b[39mlaparams,\n\u001b[0;32m    159\u001b[0m )\n\u001b[0;32m    160\u001b[0m interpreter \u001b[39m=\u001b[39m PDFPageInterpreter(\u001b[39mself\u001b[39m\u001b[39m.\u001b[39mpdf\u001b[39m.\u001b[39mrsrcmgr, device)\n\u001b[1;32m--> 161\u001b[0m interpreter\u001b[39m.\u001b[39;49mprocess_page(\u001b[39mself\u001b[39;49m\u001b[39m.\u001b[39;49mpage_obj)\n\u001b[0;32m    162\u001b[0m \u001b[39mself\u001b[39m\u001b[39m.\u001b[39m_layout: LTPage \u001b[39m=\u001b[39m device\u001b[39m.\u001b[39mget_result()\n\u001b[0;32m    163\u001b[0m \u001b[39mreturn\u001b[39;00m \u001b[39mself\u001b[39m\u001b[39m.\u001b[39m_layout\n",
      "File \u001b[1;32mc:\\Users\\Simon\\AppData\\Local\\Programs\\Python\\Python310\\lib\\site-packages\\pdfminer\\pdfinterp.py:997\u001b[0m, in \u001b[0;36mPDFPageInterpreter.process_page\u001b[1;34m(self, page)\u001b[0m\n\u001b[0;32m    995\u001b[0m     ctm \u001b[39m=\u001b[39m (\u001b[39m1\u001b[39m, \u001b[39m0\u001b[39m, \u001b[39m0\u001b[39m, \u001b[39m1\u001b[39m, \u001b[39m-\u001b[39mx0, \u001b[39m-\u001b[39my0)\n\u001b[0;32m    996\u001b[0m \u001b[39mself\u001b[39m\u001b[39m.\u001b[39mdevice\u001b[39m.\u001b[39mbegin_page(page, ctm)\n\u001b[1;32m--> 997\u001b[0m \u001b[39mself\u001b[39;49m\u001b[39m.\u001b[39;49mrender_contents(page\u001b[39m.\u001b[39;49mresources, page\u001b[39m.\u001b[39;49mcontents, ctm\u001b[39m=\u001b[39;49mctm)\n\u001b[0;32m    998\u001b[0m \u001b[39mself\u001b[39m\u001b[39m.\u001b[39mdevice\u001b[39m.\u001b[39mend_page(page)\n\u001b[0;32m    999\u001b[0m \u001b[39mreturn\u001b[39;00m\n",
      "File \u001b[1;32mc:\\Users\\Simon\\AppData\\Local\\Programs\\Python\\Python310\\lib\\site-packages\\pdfminer\\pdfinterp.py:1016\u001b[0m, in \u001b[0;36mPDFPageInterpreter.render_contents\u001b[1;34m(self, resources, streams, ctm)\u001b[0m\n\u001b[0;32m   1014\u001b[0m \u001b[39mself\u001b[39m\u001b[39m.\u001b[39minit_resources(resources)\n\u001b[0;32m   1015\u001b[0m \u001b[39mself\u001b[39m\u001b[39m.\u001b[39minit_state(ctm)\n\u001b[1;32m-> 1016\u001b[0m \u001b[39mself\u001b[39;49m\u001b[39m.\u001b[39;49mexecute(list_value(streams))\n\u001b[0;32m   1017\u001b[0m \u001b[39mreturn\u001b[39;00m\n",
      "File \u001b[1;32mc:\\Users\\Simon\\AppData\\Local\\Programs\\Python\\Python310\\lib\\site-packages\\pdfminer\\pdfinterp.py:1027\u001b[0m, in \u001b[0;36mPDFPageInterpreter.execute\u001b[1;34m(self, streams)\u001b[0m\n\u001b[0;32m   1025\u001b[0m \u001b[39mwhile\u001b[39;00m \u001b[39m1\u001b[39m:\n\u001b[0;32m   1026\u001b[0m     \u001b[39mtry\u001b[39;00m:\n\u001b[1;32m-> 1027\u001b[0m         (_, obj) \u001b[39m=\u001b[39m parser\u001b[39m.\u001b[39;49mnextobject()\n\u001b[0;32m   1028\u001b[0m     \u001b[39mexcept\u001b[39;00m PSEOF:\n\u001b[0;32m   1029\u001b[0m         \u001b[39mbreak\u001b[39;00m\n",
      "File \u001b[1;32mc:\\Users\\Simon\\AppData\\Local\\Programs\\Python\\Python310\\lib\\site-packages\\pdfminer\\psparser.py:609\u001b[0m, in \u001b[0;36mPSStackParser.nextobject\u001b[1;34m(self)\u001b[0m\n\u001b[0;32m    601\u001b[0m \u001b[39m\"\"\"Yields a list of objects.\u001b[39;00m\n\u001b[0;32m    602\u001b[0m \n\u001b[0;32m    603\u001b[0m \u001b[39mArrays and dictionaries are represented as Python lists and\u001b[39;00m\n\u001b[1;32m   (...)\u001b[0m\n\u001b[0;32m    606\u001b[0m \u001b[39m:return: keywords, literals, strings, numbers, arrays and dictionaries.\u001b[39;00m\n\u001b[0;32m    607\u001b[0m \u001b[39m\"\"\"\u001b[39;00m\n\u001b[0;32m    608\u001b[0m \u001b[39mwhile\u001b[39;00m \u001b[39mnot\u001b[39;00m \u001b[39mself\u001b[39m\u001b[39m.\u001b[39mresults:\n\u001b[1;32m--> 609\u001b[0m     (pos, token) \u001b[39m=\u001b[39m \u001b[39mself\u001b[39;49m\u001b[39m.\u001b[39;49mnexttoken()\n\u001b[0;32m    610\u001b[0m     \u001b[39mif\u001b[39;00m \u001b[39misinstance\u001b[39m(token, (\u001b[39mint\u001b[39m, \u001b[39mfloat\u001b[39m, \u001b[39mbool\u001b[39m, \u001b[39mstr\u001b[39m, \u001b[39mbytes\u001b[39m, PSLiteral)):\n\u001b[0;32m    611\u001b[0m         \u001b[39m# normal token\u001b[39;00m\n\u001b[0;32m    612\u001b[0m         \u001b[39mself\u001b[39m\u001b[39m.\u001b[39mpush((pos, token))\n",
      "File \u001b[1;32mc:\\Users\\Simon\\AppData\\Local\\Programs\\Python\\Python310\\lib\\site-packages\\pdfminer\\psparser.py:527\u001b[0m, in \u001b[0;36mPSBaseParser.nexttoken\u001b[1;34m(self)\u001b[0m\n\u001b[0;32m    525\u001b[0m \u001b[39mwhile\u001b[39;00m \u001b[39mnot\u001b[39;00m \u001b[39mself\u001b[39m\u001b[39m.\u001b[39m_tokens:\n\u001b[0;32m    526\u001b[0m     \u001b[39mself\u001b[39m\u001b[39m.\u001b[39mfillbuf()\n\u001b[1;32m--> 527\u001b[0m     \u001b[39mself\u001b[39m\u001b[39m.\u001b[39mcharpos \u001b[39m=\u001b[39m \u001b[39mself\u001b[39;49m\u001b[39m.\u001b[39;49m_parse1(\u001b[39mself\u001b[39;49m\u001b[39m.\u001b[39;49mbuf, \u001b[39mself\u001b[39;49m\u001b[39m.\u001b[39;49mcharpos)\n\u001b[0;32m    528\u001b[0m token \u001b[39m=\u001b[39m \u001b[39mself\u001b[39m\u001b[39m.\u001b[39m_tokens\u001b[39m.\u001b[39mpop(\u001b[39m0\u001b[39m)\n\u001b[0;32m    529\u001b[0m log\u001b[39m.\u001b[39mdebug(\u001b[39m\"\u001b[39m\u001b[39mnexttoken: \u001b[39m\u001b[39m%r\u001b[39;00m\u001b[39m\"\u001b[39m, token)\n",
      "File \u001b[1;32mc:\\Users\\Simon\\AppData\\Local\\Programs\\Python\\Python310\\lib\\site-packages\\pdfminer\\psparser.py:410\u001b[0m, in \u001b[0;36mPSBaseParser._parse_float\u001b[1;34m(self, s, i)\u001b[0m\n\u001b[0;32m    408\u001b[0m \u001b[39mdef\u001b[39;00m \u001b[39m_parse_float\u001b[39m(\u001b[39mself\u001b[39m, s: \u001b[39mbytes\u001b[39m, i: \u001b[39mint\u001b[39m) \u001b[39m-\u001b[39m\u001b[39m>\u001b[39m \u001b[39mint\u001b[39m:\n\u001b[0;32m    409\u001b[0m     m \u001b[39m=\u001b[39m END_NUMBER\u001b[39m.\u001b[39msearch(s, i)\n\u001b[1;32m--> 410\u001b[0m     \u001b[39mif\u001b[39;00m \u001b[39mnot\u001b[39;00m m:\n\u001b[0;32m    411\u001b[0m         \u001b[39mself\u001b[39m\u001b[39m.\u001b[39m_curtoken \u001b[39m+\u001b[39m\u001b[39m=\u001b[39m s[i:]\n\u001b[0;32m    412\u001b[0m         \u001b[39mreturn\u001b[39;00m \u001b[39mlen\u001b[39m(s)\n",
      "\u001b[1;31mKeyboardInterrupt\u001b[0m: "
     ]
    }
   ],
   "source": [
    "loader = UnstructuredPDFLoader(f\"../data/asml.pdf\")\n",
    "data = loader.load()"
   ]
  },
  {
   "cell_type": "code",
   "execution_count": null,
   "metadata": {},
   "outputs": [],
   "source": [
    "text_splitter = RecursiveCharacterTextSplitter(chunk_size=1000, chunk_overlap=0)\n",
    "texts = text_splitter.split_documents(data)\n"
   ]
  }
 ],
 "metadata": {
  "kernelspec": {
   "display_name": "Python 3.10.0 64-bit",
   "language": "python",
   "name": "python3"
  },
  "language_info": {
   "codemirror_mode": {
    "name": "ipython",
    "version": 3
   },
   "file_extension": ".py",
   "mimetype": "text/x-python",
   "name": "python",
   "nbconvert_exporter": "python",
   "pygments_lexer": "ipython3",
   "version": "3.10.0"
  },
  "orig_nbformat": 4,
  "vscode": {
   "interpreter": {
    "hash": "c5d01433c49bebc7c0f039aefb7a5f7006b5cc5372ab57f4229212c8564f15fd"
   }
  }
 },
 "nbformat": 4,
 "nbformat_minor": 2
}
